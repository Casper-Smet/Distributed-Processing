{
 "cells": [
  {
   "cell_type": "code",
   "execution_count": 1,
   "metadata": {},
   "outputs": [],
   "source": [
    "import requests\n",
    "from functools import reduce\n",
    "import pandas as pd"
   ]
  },
  {
   "cell_type": "code",
   "execution_count": 2,
   "metadata": {},
   "outputs": [],
   "source": [
    "url = r\"https://opendata.rijksoverheid.nl/v1/sources/rijksoverheid/infotypes/schoolholidays\""
   ]
  },
  {
   "cell_type": "code",
   "execution_count": 3,
   "metadata": {},
   "outputs": [],
   "source": [
    "parameters = {\"output\" : \"JSON\"}\n",
    "region = \"noord\"\n",
    "# Note that after \"2020 - 2021\" there are no spaces between the years\n",
    "selected_years = [\"2019 - 2020\", \"2020 - 2021\"]"
   ]
  },
  {
   "cell_type": "code",
   "execution_count": 4,
   "metadata": {},
   "outputs": [],
   "source": [
    "r = requests.get(url, params=parameters)"
   ]
  },
  {
   "cell_type": "code",
   "execution_count": 5,
   "metadata": {},
   "outputs": [
    {
     "data": {
      "text/html": [
       "<div>\n",
       "<style scoped>\n",
       "    .dataframe tbody tr th:only-of-type {\n",
       "        vertical-align: middle;\n",
       "    }\n",
       "\n",
       "    .dataframe tbody tr th {\n",
       "        vertical-align: top;\n",
       "    }\n",
       "\n",
       "    .dataframe thead th {\n",
       "        text-align: right;\n",
       "    }\n",
       "</style>\n",
       "<table border=\"1\" class=\"dataframe\">\n",
       "  <thead>\n",
       "    <tr style=\"text-align: right;\">\n",
       "      <th></th>\n",
       "      <th>Compulsory</th>\n",
       "      <th>Start date</th>\n",
       "      <th>End date</th>\n",
       "    </tr>\n",
       "  </thead>\n",
       "  <tbody>\n",
       "    <tr>\n",
       "      <th>0</th>\n",
       "      <td>False</td>\n",
       "      <td>2019-10-19T22:00:00.000Z</td>\n",
       "      <td>2019-10-27T21:59:00.000Z</td>\n",
       "    </tr>\n",
       "    <tr>\n",
       "      <th>1</th>\n",
       "      <td>True</td>\n",
       "      <td>2019-12-21T23:00:00.000Z</td>\n",
       "      <td>2020-01-05T22:59:00.000Z</td>\n",
       "    </tr>\n",
       "    <tr>\n",
       "      <th>2</th>\n",
       "      <td>False</td>\n",
       "      <td>2020-02-15T23:00:00.000Z</td>\n",
       "      <td>2020-02-23T22:59:00.000Z</td>\n",
       "    </tr>\n",
       "    <tr>\n",
       "      <th>3</th>\n",
       "      <td>True</td>\n",
       "      <td>2020-04-25T22:00:00.000Z</td>\n",
       "      <td>2020-05-03T21:59:00.000Z</td>\n",
       "    </tr>\n",
       "    <tr>\n",
       "      <th>4</th>\n",
       "      <td>True</td>\n",
       "      <td>2020-07-04T22:00:00.000Z</td>\n",
       "      <td>2020-08-16T21:59:00.000Z</td>\n",
       "    </tr>\n",
       "  </tbody>\n",
       "</table>\n",
       "</div>"
      ],
      "text/plain": [
       "   Compulsory                Start date                  End date\n",
       "0       False  2019-10-19T22:00:00.000Z  2019-10-27T21:59:00.000Z\n",
       "1        True  2019-12-21T23:00:00.000Z  2020-01-05T22:59:00.000Z\n",
       "2       False  2020-02-15T23:00:00.000Z  2020-02-23T22:59:00.000Z\n",
       "3        True  2020-04-25T22:00:00.000Z  2020-05-03T21:59:00.000Z\n",
       "4        True  2020-07-04T22:00:00.000Z  2020-08-16T21:59:00.000Z"
      ]
     },
     "execution_count": 5,
     "metadata": {},
     "output_type": "execute_result"
    }
   ],
   "source": [
    "years = filter(lambda x : x.get(\"content\")[0].get(\"schoolyear\").strip() in selected_years, r.json())\n",
    "\n",
    "vacations = map(lambda x : x.get(\"content\")[0].get(\"vacations\"), years)\n",
    "\n",
    "comp_regions = map(lambda y : [(x.get(\"compulsorydates\"), filter(lambda z : z.get(\"region\") == region or z.get(\"region\") == \"heel Nederland\", x.get(\"regions\"))) for x in y], vacations)\n",
    "\n",
    "\n",
    "dates = map(lambda x : ([(compulsory == \"true\", [(date.get(\"startdate\"), date.get(\"enddate\")) for date in dates][0]) for compulsory,dates in x]), comp_regions)\n",
    "dates3d = reduce(lambda x, y : x + y, dates)\n",
    "dates2d = [(x,y,z) for x,(y,z) in dates3d]\n",
    "\n",
    "df = pd.DataFrame(dates2d, columns=[\"Compulsory\", \"Start date\", \"End date\"])\n",
    "df.head()"
   ]
  },
  {
   "cell_type": "code",
   "execution_count": 6,
   "metadata": {},
   "outputs": [],
   "source": [
    "df[\"Start date\"] = pd.to_datetime(df[\"Start date\"])\n",
    "df[\"End date\"] = pd.to_datetime(df[\"End date\"])"
   ]
  },
  {
   "cell_type": "code",
   "execution_count": 7,
   "metadata": {},
   "outputs": [],
   "source": [
    "iterator = df.iterrows()\n",
    "i, row = next(iterator)\n",
    "full_range = pd.date_range(start=row[\"Start date\"], end=row[\"End date\"]).to_series().append([pd.date_range(start=row[\"Start date\"], end=row[\"End date\"]).to_series() for i,row in iterator])"
   ]
  },
  {
   "cell_type": "code",
   "execution_count": 8,
   "metadata": {},
   "outputs": [
    {
     "data": {
      "text/plain": [
       "2019-10-19 22:00:00+00:00    2019-10-19\n",
       "2019-10-20 22:00:00+00:00    2019-10-20\n",
       "2019-10-21 22:00:00+00:00    2019-10-21\n",
       "2019-10-22 22:00:00+00:00    2019-10-22\n",
       "2019-10-23 22:00:00+00:00    2019-10-23\n",
       "                                ...    \n",
       "2021-08-17 22:00:00+00:00    2021-08-17\n",
       "2021-08-18 22:00:00+00:00    2021-08-18\n",
       "2021-08-19 22:00:00+00:00    2021-08-19\n",
       "2021-08-20 22:00:00+00:00    2021-08-20\n",
       "2021-08-21 22:00:00+00:00    2021-08-21\n",
       "Length: 164, dtype: object"
      ]
     },
     "execution_count": 8,
     "metadata": {},
     "output_type": "execute_result"
    }
   ],
   "source": [
    "full_range = full_range.dt.date\n",
    "full_range"
   ]
  }
 ],
 "metadata": {
  "kernelspec": {
   "display_name": "Python 3.7.7 64-bit ('DIP': conda)",
   "language": "python",
   "name": "python37764bitdipconda4dedcd5059d04f8d9070684223ec9f99"
  },
  "language_info": {
   "codemirror_mode": {
    "name": "ipython",
    "version": 3
   },
   "file_extension": ".py",
   "mimetype": "text/x-python",
   "name": "python",
   "nbconvert_exporter": "python",
   "pygments_lexer": "ipython3",
   "version": "3.7.7"
  }
 },
 "nbformat": 4,
 "nbformat_minor": 4
}
