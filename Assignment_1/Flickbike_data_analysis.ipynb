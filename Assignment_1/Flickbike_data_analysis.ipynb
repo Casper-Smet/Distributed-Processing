{
 "cells": [
  {
   "cell_type": "markdown",
   "metadata": {},
   "source": [
    "# Flickbike"
   ]
  },
  {
   "cell_type": "code",
   "execution_count": null,
   "metadata": {},
   "outputs": [],
   "source": [
    "import matplotlib.pyplot as plt\n",
    "import numpy as np\n",
    "import seaborn as sns\n",
    "import pandas as pd\n",
    "\n",
    "import sys\n",
    "sys.path.append(\"../\")\n",
    "import KNMIRequest as KR\n",
    "\n",
    "\n",
    "import warnings\n",
    "warnings.filterwarnings('ignore')"
   ]
  },
  {
   "cell_type": "markdown",
   "metadata": {},
   "source": [
    "## Importing the data\n",
    "Allereerst wordt de data ingeladen."
   ]
  },
  {
   "cell_type": "code",
   "execution_count": null,
   "metadata": {},
   "outputs": [],
   "source": [
    "df = pd.read_csv('../input/bikes.csv', index_col=0, parse_dates=True)\n",
    "df.head()"
   ]
  },
  {
   "cell_type": "code",
   "execution_count": null,
   "metadata": {},
   "outputs": [],
   "source": [
    "df_KNMI = KR.get_KNMI_HH(start=2019010100, end=2019120923)\n",
    "df_KNMI.head()"
   ]
  },
  {
   "cell_type": "code",
   "execution_count": null,
   "metadata": {},
   "outputs": [],
   "source": [
    "df_KNMI[\"Hour\"].value_counts()"
   ]
  },
  {
   "cell_type": "code",
   "execution_count": null,
   "metadata": {},
   "outputs": [],
   "source": [
    "KR.data_dictionary"
   ]
  },
  {
   "cell_type": "markdown",
   "metadata": {},
   "source": [
    "## Analysing the data"
   ]
  },
  {
   "cell_type": "code",
   "execution_count": null,
   "metadata": {},
   "outputs": [],
   "source": [
    "df.dtypes"
   ]
  },
  {
   "cell_type": "markdown",
   "metadata": {},
   "source": [
    "Omzetten naar correcte datatypes"
   ]
  },
  {
   "cell_type": "code",
   "execution_count": null,
   "metadata": {},
   "outputs": [],
   "source": [
    "df['start_time'] = pd.to_datetime(df['start_time'])\n",
    "df['end_time'] = pd.to_datetime(df['end_time'])\n",
    "df['date'] = pd.to_datetime(df['date'])\n",
    "\n",
    "# extracting extra features\n",
    "df['weekday'] = df['date'].dt.day_name()\n",
    "df['hour'] = df['date'].dt.hour\n",
    "\n",
    "df.dtypes"
   ]
  },
  {
   "cell_type": "code",
   "execution_count": null,
   "metadata": {},
   "outputs": [],
   "source": []
  },
  {
   "cell_type": "code",
   "execution_count": null,
   "metadata": {},
   "outputs": [],
   "source": [
    "df.isna().sum()"
   ]
  },
  {
   "cell_type": "markdown",
   "metadata": {},
   "source": [
    "## Verdiepingsopdracht\n",
    "\n",
    "### Vraag 1\n",
    "**Produceer een plot van verhuur-per-dag voor deze dataset.**  \n",
    "  \n",
    "Om dit voor elkaar te krijgen worden eerst alle dagen bij elkaar gegroupeerd zodat de hoeveelheid verhuren per dag opgeteld zullen worden.  \n",
    "Hierna wordt deze dataset geplot."
   ]
  },
  {
   "cell_type": "code",
   "execution_count": null,
   "metadata": {},
   "outputs": [],
   "source": [
    "df_dates_count = df.groupby(df['date'].dt.date)['tripid'].count()\n",
    "\n",
    "x = df_dates_count.index\n",
    "y = df_dates_count.values\n",
    "\n",
    "# sns.set_style(\"darkgrid\")\n",
    "plt.plot(x, y)\n",
    "\n",
    "plt.title(\"\")\n",
    "plt.xlabel(\"\")\n",
    "plt.ylabel(\"\")\n",
    "\n",
    "plt.figure(figsize=(18,18))\n",
    "plt.show()"
   ]
  },
  {
   "cell_type": "markdown",
   "metadata": {},
   "source": []
  },
  {
   "cell_type": "code",
   "execution_count": null,
   "metadata": {},
   "outputs": [],
   "source": [
    "df_dates_count.index = pd.to_datetime(df_dates_count.index)\n",
    "df_three_months = df_dates_count.loc[\"2019-09-01\":\"2019-12-31\"]\n",
    "\n",
    "# sns.set_style(\"darkgrid\")\n",
    "plt.plot(df_three_months.index, df_three_months.values)\n",
    "\n",
    "plt.title(\"\")\n",
    "plt.xlabel(\"\")\n",
    "plt.ylabel(\"\")\n",
    "\n",
    "plt.xticks(rotation=45)\n",
    "plt.figure(figsize=(18,18))\n",
    "plt.show()"
   ]
  },
  {
   "cell_type": "markdown",
   "metadata": {},
   "source": []
  },
  {
   "cell_type": "markdown",
   "metadata": {},
   "source": [
    "### Vraag 2\n",
    "**Wat is de periodiciteit van deze dataset?**  \n",
    "  \n",
    "Om de vraag wat betreft periodiciteit te beantwoorden zullen we moeten gaan kijken of de data zich volgens een bepaald patroon gedraagt. Om deze vraag te beantwoorden bouwen we eerst een autocorrelatie plot.\n"
   ]
  },
  {
   "cell_type": "code",
   "execution_count": null,
   "metadata": {},
   "outputs": [],
   "source": [
    "from statsmodels.graphics.tsaplots import plot_acf\n",
    "\n",
    "plot_acf(df_dates_count.values, lags=30)\n",
    "plt.show()"
   ]
  },
  {
   "cell_type": "markdown",
   "metadata": {},
   "source": [
    "# Opleveropdracht\n",
    "### 1. Hoe voorspel je het aantal verhuurde fietsen op de dagen tussen 10 december 2019 en 31 januari 2020?\n",
    "\n",
    "Voordat een model gebouwd wordt, moet er data verzameld worden. Op dit moment is de data over alle verhuurde fietsen in de regio Schiphol-Oost in de tijdsperiode vanaf 1 januari 2019 tot 9 december 2019 beschikbaar gesteld. \n",
    "\n",
    "In de data staan gegevens van id’s van gebruikers, fietsen en trips. Verder bevat de data ook informatie over datum en tijd van gebruik, en de coördinaten van de startpunten en eindpunten van iedere trip.\n"
   ]
  },
  {
   "cell_type": "code",
   "execution_count": null,
   "metadata": {},
   "outputs": [],
   "source": [
    "df.head()"
   ]
  },
  {
   "cell_type": "markdown",
   "metadata": {},
   "source": [
    "### 2. Welke invloeden verwacht je van, en op welke manier kun je je model gevoelig maken voor factoren?\n",
    "Om het model gevoeliger te maken voor factoren moet eerst besloten worden welke factoren invloed kunnen hebben over de uiteindelijke uitkomst van de voorspelling. Een aantal mogelijke factoren zijn al gegeven:\n",
    "1. Het weer.\n",
    "2. De dag van de week.\n",
    "3. Bijzondere dagen in het jaar, zoals feestdagen, schoolvakanties, etc.\n",
    "4. Eventueel andere factoren.\n",
    "\n",
    "Per bovenstaande factor zullen we nu de mogelijke invloed beschrijven:\n",
    "#### Het weer\n",
    "\n",
    "* Regen\t         \n",
    "    * Iemand die gewoonlijk loopt fietst nu\n",
    "    * Iemand die gewoonlijk fietst neemt shuttle/taxi\n",
    "* Zonneschijn \t \n",
    "    * Iemand die gewoonlijk fietst, kan gaan lopen\n",
    "    * Meer mensen fietsen\n",
    "* Onweer\n",
    "    * Mensen lopen eerder, zodat ze niet te groot zijn (minder kans op inslag)\n",
    "* Mistigheid\n",
    "    * Mensen fietsen wellicht minder bij weinig zicht \n",
    "\n",
    "##### gevoeligheid model\n",
    "Het model valt gevoellig te maken voor weer door een aantal weersverschijnselen direct als variabelen mee te nemen. De volgende data komt direct van het KNMI, en gaat over de gegeven tijdspanne."
   ]
  },
  {
   "cell_type": "code",
   "execution_count": null,
   "metadata": {},
   "outputs": [],
   "source": [
    "df_KNMI.head()"
   ]
  },
  {
   "cell_type": "code",
   "execution_count": null,
   "metadata": {},
   "outputs": [],
   "source": [
    "df_KNMI.describe()"
   ]
  },
  {
   "cell_type": "markdown",
   "metadata": {},
   "source": [
    "#### De dag van de week\n",
    "* Woensdag/vrijdag \t\n",
    "  * → Vaak gebruikt als thuiswerkdagen \t\t\n",
    "* Zaterdag/zondag \t\n",
    "   * Weekend, geen werk, zwaar verminderd gebruik. "
   ]
  },
  {
   "cell_type": "code",
   "execution_count": null,
   "metadata": {},
   "outputs": [],
   "source": [
    "df_weekday = df_dates_count.copy(deep=True)\n",
    "df_weekday.index = df_weekday.index.day_name()\n",
    "\n",
    "df_weekday.groupby(df_weekday.index).mean()"
   ]
  },
  {
   "cell_type": "code",
   "execution_count": null,
   "metadata": {},
   "outputs": [],
   "source": [
    "sns.boxplot(x=df_weekday.index, y=df_weekday.values)\n",
    "plt.show()"
   ]
  },
  {
   "cell_type": "markdown",
   "metadata": {},
   "source": [
    "##### Gevoeligheid model\n"
   ]
  },
  {
   "cell_type": "markdown",
   "metadata": {},
   "source": [
    "#### Bijzondere dagen in het jaar\n",
    "* Feestdagen \t\t\n",
    "  * ‘verplicht’ vrij, geen werk\n",
    "* Schoolvakanties \n",
    "    * Minder fietsen benodigd, x percentage werkende mensen met vakantie."
   ]
  },
  {
   "cell_type": "markdown",
   "metadata": {},
   "source": [
    "Eventuele andere factoren\n",
    "Bij eventuele andere factoren kan gedacht worden aan factoren die, tot nu toe, nog niet benoemd zijn maar misschien wel een invloed kunnen hebben op de uitslag van de voorspelling. Bij dit soort factoren kan gedacht worden aan:\n",
    "#### Uur van de dag\n",
    "* Woensdag\t\n",
    "  * Kinderen eerder uit, eerder weg\n",
    "* Vrijdag \t\t\n",
    "  * Eerder vrij of vrijmibo, eerder/later weg\n",
    "* Spitstijd\t\n",
    "  * Meer fietsen benodigd in de spits dan erbuiten.\n",
    "* Lunchpauze \n",
    "  * Mensen pakken de fiets elders hun lunchpauze te houden."
   ]
  },
  {
   "cell_type": "code",
   "execution_count": null,
   "metadata": {},
   "outputs": [],
   "source": [
    "df_dates_count.sort_values(ascending=False).head(2)"
   ]
  },
  {
   "cell_type": "markdown",
   "metadata": {},
   "source": [
    "Dit geeft aan dat er op de 5e van november in totaal 499 fietsen verhuurt zijn. De volgende stap is om te kijken rond welke uren de vraag het hoogst is."
   ]
  },
  {
   "cell_type": "code",
   "execution_count": null,
   "metadata": {},
   "outputs": [],
   "source": [
    "df_1day_hours = df[(df['date'] > '2019-11-05') & (df['date'] < '2019-11-6')]\n",
    "df_plot = df_1day_hours.groupby(df_1day_hours['hour'])['tripid'].count()\n",
    "\n",
    "# plotting the bar chart\n",
    "sns.set_style(\"darkgrid\")\n",
    "\n",
    "y_pos = np.arange(len(df_plot.index))\n",
    "plt.bar(y_pos, df_plot.values, align='center', alpha=0.5)\n",
    "\n",
    "plt.xticks(y_pos, df_plot.index)\n",
    "plt.ylabel('')\n",
    "plt.title('')\n",
    "\n",
    "plt.show()"
   ]
  },
  {
   "cell_type": "code",
   "execution_count": null,
   "metadata": {},
   "outputs": [],
   "source": []
  }
 ],
 "metadata": {
  "kernelspec": {
   "display_name": "Python 3",
   "language": "python",
   "name": "python3"
  },
  "language_info": {
   "codemirror_mode": {
    "name": "ipython",
    "version": 3
   },
   "file_extension": ".py",
   "mimetype": "text/x-python",
   "name": "python",
   "nbconvert_exporter": "python",
   "pygments_lexer": "ipython3",
   "version": "3.7.6"
  }
 },
 "nbformat": 4,
 "nbformat_minor": 4
}
