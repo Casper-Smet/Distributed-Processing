{
 "cells": [
  {
   "cell_type": "markdown",
   "metadata": {},
   "source": [
    "# Flickbike plan van aanpak en data analyse"
   ]
  },
  {
   "cell_type": "code",
   "execution_count": 1,
   "metadata": {},
   "outputs": [],
   "source": [
    "import matplotlib.pyplot as plt\n",
    "import numpy as np\n",
    "import seaborn as sns\n",
    "import pandas as pd\n",
    "\n",
    "import sys\n",
    "sys.path.append(\"../\")\n",
    "import KNMIRequest as KR\n",
    "import HolidayRequest as HR\n",
    "\n",
    "import warnings\n",
    "warnings.filterwarnings('ignore')"
   ]
  },
  {
   "cell_type": "markdown",
   "metadata": {},
   "source": [
    "## Importing the data\n",
    "Allereerst wordt de data ingeladen.  \n",
    "Fiets data:"
   ]
  },
  {
   "cell_type": "code",
   "execution_count": 2,
   "metadata": {},
   "outputs": [
    {
     "data": {
      "text/html": [
       "<div>\n",
       "<style scoped>\n",
       "    .dataframe tbody tr th:only-of-type {\n",
       "        vertical-align: middle;\n",
       "    }\n",
       "\n",
       "    .dataframe tbody tr th {\n",
       "        vertical-align: top;\n",
       "    }\n",
       "\n",
       "    .dataframe thead th {\n",
       "        text-align: right;\n",
       "    }\n",
       "</style>\n",
       "<table border=\"1\" class=\"dataframe\">\n",
       "  <thead>\n",
       "    <tr style=\"text-align: right;\">\n",
       "      <th></th>\n",
       "      <th>tripid</th>\n",
       "      <th>userid</th>\n",
       "      <th>bikeid</th>\n",
       "      <th>account</th>\n",
       "      <th>bikenumber</th>\n",
       "      <th>start_time</th>\n",
       "      <th>end_time</th>\n",
       "      <th>start_lat</th>\n",
       "      <th>start_lng</th>\n",
       "      <th>end_lat</th>\n",
       "      <th>end_lng</th>\n",
       "      <th>date</th>\n",
       "    </tr>\n",
       "  </thead>\n",
       "  <tbody>\n",
       "    <tr>\n",
       "      <th>1</th>\n",
       "      <td>33838</td>\n",
       "      <td>13452</td>\n",
       "      <td>382</td>\n",
       "      <td>AR</td>\n",
       "      <td>6631000433</td>\n",
       "      <td>2019-01-01 06:46:03</td>\n",
       "      <td>2019-01-01 06:46:03</td>\n",
       "      <td>52.296065</td>\n",
       "      <td>4.787667</td>\n",
       "      <td>52.296200</td>\n",
       "      <td>4.787679</td>\n",
       "      <td>2019-01-01 06:46:00</td>\n",
       "    </tr>\n",
       "    <tr>\n",
       "      <th>2</th>\n",
       "      <td>33839</td>\n",
       "      <td>13452</td>\n",
       "      <td>812</td>\n",
       "      <td>AR</td>\n",
       "      <td>6631000146</td>\n",
       "      <td>2019-01-01 06:47:39</td>\n",
       "      <td>2019-01-01 06:47:39</td>\n",
       "      <td>52.295938</td>\n",
       "      <td>4.788336</td>\n",
       "      <td>52.295940</td>\n",
       "      <td>4.788557</td>\n",
       "      <td>2019-01-01 06:47:35</td>\n",
       "    </tr>\n",
       "    <tr>\n",
       "      <th>3</th>\n",
       "      <td>33851</td>\n",
       "      <td>13182</td>\n",
       "      <td>238</td>\n",
       "      <td>AR</td>\n",
       "      <td>6631000443</td>\n",
       "      <td>2019-01-01 14:15:36</td>\n",
       "      <td>2019-01-01 14:15:36</td>\n",
       "      <td>52.307337</td>\n",
       "      <td>4.807633</td>\n",
       "      <td>52.307336</td>\n",
       "      <td>4.807630</td>\n",
       "      <td>2019-01-01 14:15:32</td>\n",
       "    </tr>\n",
       "    <tr>\n",
       "      <th>4</th>\n",
       "      <td>33852</td>\n",
       "      <td>13182</td>\n",
       "      <td>238</td>\n",
       "      <td>AR</td>\n",
       "      <td>6631000443</td>\n",
       "      <td>2019-01-01 14:33:50</td>\n",
       "      <td>2019-01-01 14:33:50</td>\n",
       "      <td>52.308478</td>\n",
       "      <td>4.809970</td>\n",
       "      <td>52.308537</td>\n",
       "      <td>4.810099</td>\n",
       "      <td>2019-01-01 14:33:46</td>\n",
       "    </tr>\n",
       "    <tr>\n",
       "      <th>5</th>\n",
       "      <td>33867</td>\n",
       "      <td>12674</td>\n",
       "      <td>787</td>\n",
       "      <td>AG</td>\n",
       "      <td>6631000283</td>\n",
       "      <td>2019-01-01 20:11:05</td>\n",
       "      <td>2019-01-01 20:11:05</td>\n",
       "      <td>52.506522</td>\n",
       "      <td>4.727323</td>\n",
       "      <td>52.506809</td>\n",
       "      <td>4.732135</td>\n",
       "      <td>2019-01-01 20:11:01</td>\n",
       "    </tr>\n",
       "  </tbody>\n",
       "</table>\n",
       "</div>"
      ],
      "text/plain": [
       "   tripid  userid  bikeid account  bikenumber           start_time  \\\n",
       "1   33838   13452     382      AR  6631000433  2019-01-01 06:46:03   \n",
       "2   33839   13452     812      AR  6631000146  2019-01-01 06:47:39   \n",
       "3   33851   13182     238      AR  6631000443  2019-01-01 14:15:36   \n",
       "4   33852   13182     238      AR  6631000443  2019-01-01 14:33:50   \n",
       "5   33867   12674     787      AG  6631000283  2019-01-01 20:11:05   \n",
       "\n",
       "              end_time  start_lat  start_lng    end_lat   end_lng  \\\n",
       "1  2019-01-01 06:46:03  52.296065   4.787667  52.296200  4.787679   \n",
       "2  2019-01-01 06:47:39  52.295938   4.788336  52.295940  4.788557   \n",
       "3  2019-01-01 14:15:36  52.307337   4.807633  52.307336  4.807630   \n",
       "4  2019-01-01 14:33:50  52.308478   4.809970  52.308537  4.810099   \n",
       "5  2019-01-01 20:11:05  52.506522   4.727323  52.506809  4.732135   \n",
       "\n",
       "                  date  \n",
       "1  2019-01-01 06:46:00  \n",
       "2  2019-01-01 06:47:35  \n",
       "3  2019-01-01 14:15:32  \n",
       "4  2019-01-01 14:33:46  \n",
       "5  2019-01-01 20:11:01  "
      ]
     },
     "execution_count": 2,
     "metadata": {},
     "output_type": "execute_result"
    }
   ],
   "source": [
    "df = pd.read_csv('../input/bikes.csv', index_col=0, parse_dates=True)\n",
    "df.head()"
   ]
  },
  {
   "cell_type": "markdown",
   "metadata": {},
   "source": [
    "Weerdata:"
   ]
  },
  {
   "cell_type": "code",
   "execution_count": 3,
   "metadata": {},
   "outputs": [
    {
     "data": {
      "text/html": [
       "<div>\n",
       "<style scoped>\n",
       "    .dataframe tbody tr th:only-of-type {\n",
       "        vertical-align: middle;\n",
       "    }\n",
       "\n",
       "    .dataframe tbody tr th {\n",
       "        vertical-align: top;\n",
       "    }\n",
       "\n",
       "    .dataframe thead th {\n",
       "        text-align: right;\n",
       "    }\n",
       "</style>\n",
       "<table border=\"1\" class=\"dataframe\">\n",
       "  <thead>\n",
       "    <tr style=\"text-align: right;\">\n",
       "      <th></th>\n",
       "      <th>Station</th>\n",
       "      <th>Date</th>\n",
       "      <th>Hour</th>\n",
       "      <th>T</th>\n",
       "      <th>R</th>\n",
       "      <th>O</th>\n",
       "      <th>S</th>\n",
       "      <th>VV</th>\n",
       "      <th>RH</th>\n",
       "    </tr>\n",
       "  </thead>\n",
       "  <tbody>\n",
       "    <tr>\n",
       "      <th>0</th>\n",
       "      <td>240</td>\n",
       "      <td>2019-01-01</td>\n",
       "      <td>1</td>\n",
       "      <td>85</td>\n",
       "      <td>0</td>\n",
       "      <td>0</td>\n",
       "      <td>0</td>\n",
       "      <td>69</td>\n",
       "      <td>0</td>\n",
       "    </tr>\n",
       "    <tr>\n",
       "      <th>1</th>\n",
       "      <td>240</td>\n",
       "      <td>2019-01-01</td>\n",
       "      <td>2</td>\n",
       "      <td>86</td>\n",
       "      <td>0</td>\n",
       "      <td>0</td>\n",
       "      <td>0</td>\n",
       "      <td>75</td>\n",
       "      <td>0</td>\n",
       "    </tr>\n",
       "    <tr>\n",
       "      <th>2</th>\n",
       "      <td>240</td>\n",
       "      <td>2019-01-01</td>\n",
       "      <td>3</td>\n",
       "      <td>85</td>\n",
       "      <td>0</td>\n",
       "      <td>0</td>\n",
       "      <td>0</td>\n",
       "      <td>75</td>\n",
       "      <td>0</td>\n",
       "    </tr>\n",
       "    <tr>\n",
       "      <th>3</th>\n",
       "      <td>240</td>\n",
       "      <td>2019-01-01</td>\n",
       "      <td>4</td>\n",
       "      <td>82</td>\n",
       "      <td>0</td>\n",
       "      <td>0</td>\n",
       "      <td>0</td>\n",
       "      <td>70</td>\n",
       "      <td>0</td>\n",
       "    </tr>\n",
       "    <tr>\n",
       "      <th>4</th>\n",
       "      <td>240</td>\n",
       "      <td>2019-01-01</td>\n",
       "      <td>5</td>\n",
       "      <td>87</td>\n",
       "      <td>1</td>\n",
       "      <td>0</td>\n",
       "      <td>0</td>\n",
       "      <td>70</td>\n",
       "      <td>-1</td>\n",
       "    </tr>\n",
       "  </tbody>\n",
       "</table>\n",
       "</div>"
      ],
      "text/plain": [
       "  Station       Date  Hour   T  R  O  S  VV  RH\n",
       "0     240 2019-01-01     1  85  0  0  0  69   0\n",
       "1     240 2019-01-01     2  86  0  0  0  75   0\n",
       "2     240 2019-01-01     3  85  0  0  0  75   0\n",
       "3     240 2019-01-01     4  82  0  0  0  70   0\n",
       "4     240 2019-01-01     5  87  1  0  0  70  -1"
      ]
     },
     "execution_count": 3,
     "metadata": {},
     "output_type": "execute_result"
    }
   ],
   "source": [
    "df_KNMI = KR.get_KNMI_HH(start=2019010100, end=2019120923)\n",
    "df_KNMI.head()"
   ]
  },
  {
   "cell_type": "code",
   "execution_count": 4,
   "metadata": {
    "scrolled": true
   },
   "outputs": [
    {
     "data": {
      "text/plain": [
       "23    343\n",
       "15    343\n",
       "16    343\n",
       "24    343\n",
       "1     343\n",
       "9     343\n",
       "17    343\n",
       "2     343\n",
       "10    343\n",
       "18    343\n",
       "3     343\n",
       "11    343\n",
       "19    343\n",
       "4     343\n",
       "12    343\n",
       "20    343\n",
       "5     343\n",
       "13    343\n",
       "21    343\n",
       "6     343\n",
       "14    343\n",
       "22    343\n",
       "7     343\n",
       "8     343\n",
       "Name: Hour, dtype: int64"
      ]
     },
     "execution_count": 4,
     "metadata": {},
     "output_type": "execute_result"
    }
   ],
   "source": [
    "df_KNMI[\"Hour\"].value_counts()"
   ]
  },
  {
   "cell_type": "code",
   "execution_count": 5,
   "metadata": {
    "scrolled": true
   },
   "outputs": [
    {
     "data": {
      "text/plain": [
       "{'DD': 'Windrichting (in graden) gemiddeld over de laatste 10 minuten van het afgelopen uur (360=noord, 90=oost, 180=zuid, 270=west, 0=windstil 990=veranderlijk. Zie http://www.knmi.nl/kennis-en-datacentrum/achtergrond/klimatologische-brochures-en-boeken',\n",
       " '    FH': 'Uurgemiddelde windsnelheid (in 0.1 m/s). Zie http://www.knmi.nl/kennis-en-datacentrum/achtergrond/klimatologische-brochures-en-boeken',\n",
       " '    FF': 'Windsnelheid (in 0.1 m/s) gemiddeld over de laatste 10 minuten van het afgelopen uur',\n",
       " '    FX': 'Hoogste windstoot (in 0.1 m/s) over het afgelopen uurvak',\n",
       " '    T': 'Temperatuur (in 0.1 graden Celsius) op 1.50 m hoogte tijdens de waarneming',\n",
       " '    T10N': 'Minimumtemperatuur (in 0.1 graden Celsius) op 10 cm hoogte in de afgelopen 6 uur',\n",
       " '    TD': 'Dauwpuntstemperatuur (in 0.1 graden Celsius) op 1.50 m hoogte tijdens de waarneming',\n",
       " '    SQ': 'Duur van de zonneschijn (in 0.1 uren) per uurvak, berekend uit globale straling (-1 for <0.05 uur)',\n",
       " '    Q': 'Globale straling (in J/cm2) per uurvak',\n",
       " '    DR': 'Duur van de neerslag (in 0.1 uur) per uurvak',\n",
       " '    RH': 'Uursom van de neerslag (in 0.1 mm) (-1 voor <0.05 mm)',\n",
       " '    P': 'Luchtdruk (in 0.1 hPa) herleid naar zeeniveau, tijdens de waarneming',\n",
       " '    VV': 'Horizontaal zicht tijdens de waarneming (0=minder dan 100m, 1=100-200m, 2=200-300m,..., 49=4900-5000m, 50=5-6km, 56=6-7km, 57=7-8km, ..., 79=29-30km, 80=30-35km, 81=35-40km,..., 89=meer dan 70km)',\n",
       " '    N': 'Bewolking (bedekkingsgraad van de bovenlucht in achtsten), tijdens de waarneming (9=bovenlucht onzichtbaar)',\n",
       " '    U': 'Relatieve vochtigheid (in procenten) op 1.50 m hoogte tijdens de waarneming',\n",
       " '    WW': 'Weercode (00-99), visueel(WW) of automatisch(WaWa) waargenomen, voor het actuele weer of het weer in het afgelopen uur. Zie http://bibliotheek.knmi.nl/scholierenpdf/weercodes_Nederland',\n",
       " '    IX': 'Weercode indicator voor de wijze van waarnemen op een bemand of automatisch station (1=bemand gebruikmakend van code uit visuele waarnemingen, 2,3=bemand en weggelaten (geen belangrijk weersverschijnsel, geen gegevens), 4=automatisch en opgenomen (gebruikmakend van code uit visuele waarnemingen), 5,6=automatisch en weggelaten (geen belangrijk weersverschijnsel, geen gegevens), 7=automatisch gebruikmakend van code uit automatische waarnemingen)',\n",
       " '    M': 'Mist 0=niet voorgekomen, 1=wel voorgekomen in het voorgaande uur en/of tijdens de waarneming',\n",
       " '    R': 'Regen 0=niet voorgekomen, 1=wel voorgekomen in het voorgaande uur en/of tijdens de waarneming',\n",
       " '    S': 'Sneeuw 0=niet voorgekomen, 1=wel voorgekomen in het voorgaande uur en/of tijdens de waarneming',\n",
       " '    O': 'Onweer 0=niet voorgekomen, 1=wel voorgekomen in het voorgaande uur en/of tijdens de waarneming',\n",
       " '    Y': 'IJsvorming 0=niet voorgekomen, 1=wel voorgekomen in het voorgaande uur en/of tijdens de waarneming',\n",
       " '    WIND': ' = DD:FH:FF:FX Wind',\n",
       " '    TEMP': ' = T:T10N:TD Temperatuur',\n",
       " '    SUNR': ' = SQ:Q Zonneschijnduur en globale straling',\n",
       " '    PRCP': ' = DR:RH Neerslag en potentiële verdamping',\n",
       " '    VICL': ' = VV:N:U Zicht, bewolking en relatieve vochtigheid',\n",
       " '    WEER': ' = M:R:S:O:Y:WW Weerverschijnselen, weertypen',\n",
       " '    ALL': ' alle variabelen'}"
      ]
     },
     "execution_count": 5,
     "metadata": {},
     "output_type": "execute_result"
    }
   ],
   "source": [
    "KR.data_dictionary"
   ]
  },
  {
   "cell_type": "markdown",
   "metadata": {},
   "source": [
    "Vakantiedata:"
   ]
  },
  {
   "cell_type": "code",
   "execution_count": 6,
   "metadata": {},
   "outputs": [
    {
     "data": {
      "text/plain": [
       "2019-10-19 22:00:00+00:00    2019-10-19\n",
       "2019-10-20 22:00:00+00:00    2019-10-20\n",
       "2019-10-21 22:00:00+00:00    2019-10-21\n",
       "2019-10-22 22:00:00+00:00    2019-10-22\n",
       "2019-10-23 22:00:00+00:00    2019-10-23\n",
       "dtype: object"
      ]
     },
     "execution_count": 6,
     "metadata": {},
     "output_type": "execute_result"
    }
   ],
   "source": [
    "ser_holidays = HR.get_holiday_range()\n",
    "ser_holidays.head()"
   ]
  },
  {
   "cell_type": "markdown",
   "metadata": {},
   "source": [
    "Data over de feestdagen:\n",
    "\n",
    "**source:**\n",
    "- https://kalender-nederland.nl/feestdagen-2019/"
   ]
  },
  {
   "cell_type": "code",
   "execution_count": 7,
   "metadata": {},
   "outputs": [],
   "source": [
    "df_nat_hol = pd.read_csv('../input/Nationale Feestdagen.csv')"
   ]
  },
  {
   "cell_type": "markdown",
   "metadata": {},
   "source": [
    "Het omzetten van de datum naar een `pd.datetime`."
   ]
  },
  {
   "cell_type": "code",
   "execution_count": 8,
   "metadata": {},
   "outputs": [
    {
     "data": {
      "text/html": [
       "<div>\n",
       "<style scoped>\n",
       "    .dataframe tbody tr th:only-of-type {\n",
       "        vertical-align: middle;\n",
       "    }\n",
       "\n",
       "    .dataframe tbody tr th {\n",
       "        vertical-align: top;\n",
       "    }\n",
       "\n",
       "    .dataframe thead th {\n",
       "        text-align: right;\n",
       "    }\n",
       "</style>\n",
       "<table border=\"1\" class=\"dataframe\">\n",
       "  <thead>\n",
       "    <tr style=\"text-align: right;\">\n",
       "      <th></th>\n",
       "      <th>Feestdag</th>\n",
       "      <th>Datum</th>\n",
       "      <th>date</th>\n",
       "    </tr>\n",
       "  </thead>\n",
       "  <tbody>\n",
       "    <tr>\n",
       "      <th>0</th>\n",
       "      <td>Nieuwjaarsdag 2019</td>\n",
       "      <td>01 Jan 2019</td>\n",
       "      <td>2019-01-01</td>\n",
       "    </tr>\n",
       "    <tr>\n",
       "      <th>1</th>\n",
       "      <td>Bevrijdingsdag 2019</td>\n",
       "      <td>05 May 2019</td>\n",
       "      <td>2019-05-05</td>\n",
       "    </tr>\n",
       "    <tr>\n",
       "      <th>2</th>\n",
       "      <td>Hemelvaart 2019</td>\n",
       "      <td>30 May 2019</td>\n",
       "      <td>2019-05-30</td>\n",
       "    </tr>\n",
       "    <tr>\n",
       "      <th>3</th>\n",
       "      <td>Goede vrijdag 2019</td>\n",
       "      <td>19 Apr 2019</td>\n",
       "      <td>2019-04-19</td>\n",
       "    </tr>\n",
       "    <tr>\n",
       "      <th>4</th>\n",
       "      <td>1e Paasdag 2019</td>\n",
       "      <td>21 Apr 2019</td>\n",
       "      <td>2019-04-21</td>\n",
       "    </tr>\n",
       "  </tbody>\n",
       "</table>\n",
       "</div>"
      ],
      "text/plain": [
       "              Feestdag        Datum       date\n",
       "0   Nieuwjaarsdag 2019  01 Jan 2019 2019-01-01\n",
       "1  Bevrijdingsdag 2019  05 May 2019 2019-05-05\n",
       "2      Hemelvaart 2019  30 May 2019 2019-05-30\n",
       "3   Goede vrijdag 2019  19 Apr 2019 2019-04-19\n",
       "4      1e Paasdag 2019  21 Apr 2019 2019-04-21"
      ]
     },
     "execution_count": 8,
     "metadata": {},
     "output_type": "execute_result"
    }
   ],
   "source": [
    "df_nat_hol['date'] = pd.to_datetime(df_nat_hol['Datum'])\n",
    "df_nat_hol.head()"
   ]
  },
  {
   "cell_type": "markdown",
   "metadata": {},
   "source": [
    "## Analysing the data"
   ]
  },
  {
   "cell_type": "code",
   "execution_count": 9,
   "metadata": {},
   "outputs": [
    {
     "data": {
      "text/plain": [
       "tripid          int64\n",
       "userid          int64\n",
       "bikeid          int64\n",
       "account        object\n",
       "bikenumber      int64\n",
       "start_time     object\n",
       "end_time       object\n",
       "start_lat     float64\n",
       "start_lng     float64\n",
       "end_lat       float64\n",
       "end_lng       float64\n",
       "date           object\n",
       "dtype: object"
      ]
     },
     "execution_count": 9,
     "metadata": {},
     "output_type": "execute_result"
    }
   ],
   "source": [
    "df.dtypes"
   ]
  },
  {
   "cell_type": "markdown",
   "metadata": {},
   "source": [
    "Omzetten naar correcte datatypes"
   ]
  },
  {
   "cell_type": "code",
   "execution_count": 10,
   "metadata": {},
   "outputs": [
    {
     "data": {
      "text/plain": [
       "tripid                 int64\n",
       "userid                 int64\n",
       "bikeid                 int64\n",
       "account               object\n",
       "bikenumber             int64\n",
       "start_time    datetime64[ns]\n",
       "end_time      datetime64[ns]\n",
       "start_lat            float64\n",
       "start_lng            float64\n",
       "end_lat              float64\n",
       "end_lng              float64\n",
       "date          datetime64[ns]\n",
       "weekday               object\n",
       "hour                   int64\n",
       "dtype: object"
      ]
     },
     "execution_count": 10,
     "metadata": {},
     "output_type": "execute_result"
    }
   ],
   "source": [
    "df['start_time'] = pd.to_datetime(df['start_time'])\n",
    "df['end_time'] = pd.to_datetime(df['end_time'])\n",
    "df['date'] = pd.to_datetime(df['date'])\n",
    "\n",
    "# extracting extra features\n",
    "df['weekday'] = df['date'].dt.day_name()\n",
    "df['hour'] = df['date'].dt.hour\n",
    "\n",
    "df.dtypes"
   ]
  },
  {
   "cell_type": "markdown",
   "metadata": {},
   "source": [
    "Checken of er geen missende data in de dataframe zit."
   ]
  },
  {
   "cell_type": "code",
   "execution_count": 11,
   "metadata": {},
   "outputs": [
    {
     "data": {
      "text/plain": [
       "tripid        0\n",
       "userid        0\n",
       "bikeid        0\n",
       "account       0\n",
       "bikenumber    0\n",
       "start_time    0\n",
       "end_time      0\n",
       "start_lat     0\n",
       "start_lng     0\n",
       "end_lat       0\n",
       "end_lng       0\n",
       "date          0\n",
       "weekday       0\n",
       "hour          0\n",
       "dtype: int64"
      ]
     },
     "execution_count": 11,
     "metadata": {},
     "output_type": "execute_result"
    }
   ],
   "source": [
    "df.isna().sum()"
   ]
  },
  {
   "cell_type": "markdown",
   "metadata": {},
   "source": [
    "## Verdiepingsopdracht\n",
    "\n",
    "### Vraag 1\n",
    "**Produceer een plot van verhuur-per-dag voor deze dataset.**  \n",
    "  \n",
    "Om dit voor elkaar te krijgen worden eerst alle dagen bij elkaar gegroupeerd zodat de hoeveelheid verhuren per dag opgeteld zullen worden.  \n",
    "Hierna wordt deze dataset geplot."
   ]
  },
  {
   "cell_type": "code",
   "execution_count": 12,
   "metadata": {},
   "outputs": [
    {
     "data": {
      "image/png": "[encoded data removed]",
      "text/plain": [
       "<Figure size 432x288 with 1 Axes>"
      ]
     },
     "metadata": {
      "needs_background": "light"
     },
     "output_type": "display_data"
    },
    {
     "data": {
      "text/plain": [
       "<Figure size 1296x1296 with 0 Axes>"
      ]
     },
     "metadata": {},
     "output_type": "display_data"
    }
   ],
   "source": [
    "df_dates_count = df.groupby(df['date'].dt.date)['tripid'].count()\n",
    "\n",
    "x = df_dates_count.index\n",
    "y = df_dates_count.values\n",
    "\n",
    "# sns.set_style(\"darkgrid\")\n",
    "plt.plot(x, y)\n",
    "\n",
    "plt.title(\"\")\n",
    "plt.xlabel(\"\")\n",
    "plt.ylabel(\"\")\n",
    "\n",
    "plt.figure(figsize=(18,18))\n",
    "plt.show()"
   ]
  },
  {
   "cell_type": "markdown",
   "metadata": {},
   "source": []
  },
  {
   "cell_type": "code",
   "execution_count": 13,
   "metadata": {},
   "outputs": [
    {
     "data": {
      "image/png": "[encoded data removed]",
      "text/plain": [
       "<Figure size 432x288 with 1 Axes>"
      ]
     },
     "metadata": {
      "needs_background": "light"
     },
     "output_type": "display_data"
    },
    {
     "data": {
      "text/plain": [
       "<Figure size 1296x1296 with 0 Axes>"
      ]
     },
     "metadata": {},
     "output_type": "display_data"
    }
   ],
   "source": [
    "df_dates_count.index = pd.to_datetime(df_dates_count.index)\n",
    "df_three_months = df_dates_count.loc[\"2019-09-01\":\"2019-12-31\"]\n",
    "\n",
    "# sns.set_style(\"darkgrid\")\n",
    "plt.plot(df_three_months.index, df_three_months.values)\n",
    "\n",
    "plt.title(\"\")\n",
    "plt.xlabel(\"\")\n",
    "plt.ylabel(\"\")\n",
    "\n",
    "plt.xticks(rotation=45)\n",
    "plt.figure(figsize=(18,18))\n",
    "plt.show()"
   ]
  },
  {
   "cell_type": "markdown",
   "metadata": {},
   "source": []
  },
  {
   "cell_type": "markdown",
   "metadata": {},
   "source": [
    "### Vraag 2\n",
    "**Wat is de periodiciteit van deze dataset?**  \n",
    "  \n",
    "Om de vraag wat betreft periodiciteit te beantwoorden zullen we moeten gaan kijken of de data zich volgens een bepaald patroon gedraagt. Om deze vraag te beantwoorden bouwen we eerst een autocorrelatie plot.\n"
   ]
  },
  {
   "cell_type": "code",
   "execution_count": 14,
   "metadata": {},
   "outputs": [
    {
     "data": {
      "image/png": "[encoded data removed]",
      "text/plain": [
       "<Figure size 432x288 with 1 Axes>"
      ]
     },
     "metadata": {
      "needs_background": "light"
     },
     "output_type": "display_data"
    }
   ],
   "source": [
    "from statsmodels.graphics.tsaplots import plot_acf\n",
    "\n",
    "plot_acf(df_dates_count.values, lags=30)\n",
    "plt.show()"
   ]
  },
  {
   "cell_type": "markdown",
   "metadata": {},
   "source": [
    "# Opleveropdracht\n",
    "\n",
    "\n",
    "### 1. Hoe voorspel je het aantal verhuurde fietsen op de dagen tussen 10 december 2019 en 31 januari 2020?\n",
    "\n",
    "Voordat een model gebouwd wordt, moet er data verzameld worden. Op dit moment is de data over alle verhuurde fietsen in de regio Schiphol-Oost in de tijdsperiode vanaf 1 januari 2019 tot 9 december 2019 beschikbaar gesteld. \n",
    "\n",
    "In de data staan gegevens van id’s van gebruikers, fietsen en trips. Verder bevat de data ook informatie over datum en tijd van gebruik, en de coördinaten van de startpunten en eindpunten van iedere trip.  \n",
    "  \n",
    "Allereerst zal de data verrijkt worden met weerdata, hierdoor zal het model gevoeliger worden voor weersituaties zoals sneeuw, mist en regen. Ten tweede wordt de data verrijkt feestdagen en schoolvakanties.\n",
    "\n",
    "Wat betreft model kwamen we initiëel  uit op een decision tree regressie model. De keuze hiervoor is voornamelijk gemaakt op het feit dat decision trees redelijk inzichtelijk zijn (de decision tree kan makkelijk gevisualiseerd worden). Ook zal dit model zelf keuzes maken over welke features belangrijker zijn dan andere.\n",
    "Uiteindelijk zal uit dit model een voorspelling komen die aangeeft hoeveel fietsen verhuurd worden op een bepaalde dag met bepaalde omstandigheden. Dit model zal echter wel op continue waardes getraind worden waarbij de uiteindelijke voorspelling ook een continue waarde zal zijn, om deze reden hebben we dan ook gekozen voor een decision tree regressie model.\n",
    "\n",
    "Tijdens het onderzoeken van de data en eventuele methodes om over deze data voorspellingen te maken kwamen we ook nog op andere modellen uit. Eén daarvan is Long Short-Term Memory (LSTM). LSTM’s zijn zeer goed in het onthouden van lange termijn ‘herinneringen’. Verder werken LSTM’s goed met voorspellingen met tijdreeksen (timeseries) en leren ze welke data belangrijk is en welke niet.\n",
    "\n",
    "Als laatste model vonden we Holt-Winters’ seasonal method. Deze methode wordt gebruikt om periodiciteit te gebruiken om voorspellingen op te maken. De data moet hiervoor ‘periodisch’ zijn. Aangezien bij het gebruik van fietsen ook andere factoren belangrijk kunnen zijn zou dit model met een ander model gecombineerd kunnen worden, met als eindresultaat een soort “hybride” model.\n",
    "  \n",
    "**Sources:**\n",
    "- https://grisha.org/blog/2016/01/29/triple-exponential-smoothing-forecasting/\n",
    "- https://eng.uber.com/forecasting-introduction/\n"
   ]
  },
  {
   "cell_type": "code",
   "execution_count": 15,
   "metadata": {},
   "outputs": [
    {
     "data": {
      "text/html": [
       "<div>\n",
       "<style scoped>\n",
       "    .dataframe tbody tr th:only-of-type {\n",
       "        vertical-align: middle;\n",
       "    }\n",
       "\n",
       "    .dataframe tbody tr th {\n",
       "        vertical-align: top;\n",
       "    }\n",
       "\n",
       "    .dataframe thead th {\n",
       "        text-align: right;\n",
       "    }\n",
       "</style>\n",
       "<table border=\"1\" class=\"dataframe\">\n",
       "  <thead>\n",
       "    <tr style=\"text-align: right;\">\n",
       "      <th></th>\n",
       "      <th>tripid</th>\n",
       "      <th>userid</th>\n",
       "      <th>bikeid</th>\n",
       "      <th>account</th>\n",
       "      <th>bikenumber</th>\n",
       "      <th>start_time</th>\n",
       "      <th>end_time</th>\n",
       "      <th>start_lat</th>\n",
       "      <th>start_lng</th>\n",
       "      <th>end_lat</th>\n",
       "      <th>end_lng</th>\n",
       "      <th>date</th>\n",
       "      <th>weekday</th>\n",
       "      <th>hour</th>\n",
       "    </tr>\n",
       "  </thead>\n",
       "  <tbody>\n",
       "    <tr>\n",
       "      <th>1</th>\n",
       "      <td>33838</td>\n",
       "      <td>13452</td>\n",
       "      <td>382</td>\n",
       "      <td>AR</td>\n",
       "      <td>6631000433</td>\n",
       "      <td>2019-01-01 06:46:03</td>\n",
       "      <td>2019-01-01 06:46:03</td>\n",
       "      <td>52.296065</td>\n",
       "      <td>4.787667</td>\n",
       "      <td>52.296200</td>\n",
       "      <td>4.787679</td>\n",
       "      <td>2019-01-01 06:46:00</td>\n",
       "      <td>Tuesday</td>\n",
       "      <td>6</td>\n",
       "    </tr>\n",
       "    <tr>\n",
       "      <th>2</th>\n",
       "      <td>33839</td>\n",
       "      <td>13452</td>\n",
       "      <td>812</td>\n",
       "      <td>AR</td>\n",
       "      <td>6631000146</td>\n",
       "      <td>2019-01-01 06:47:39</td>\n",
       "      <td>2019-01-01 06:47:39</td>\n",
       "      <td>52.295938</td>\n",
       "      <td>4.788336</td>\n",
       "      <td>52.295940</td>\n",
       "      <td>4.788557</td>\n",
       "      <td>2019-01-01 06:47:35</td>\n",
       "      <td>Tuesday</td>\n",
       "      <td>6</td>\n",
       "    </tr>\n",
       "    <tr>\n",
       "      <th>3</th>\n",
       "      <td>33851</td>\n",
       "      <td>13182</td>\n",
       "      <td>238</td>\n",
       "      <td>AR</td>\n",
       "      <td>6631000443</td>\n",
       "      <td>2019-01-01 14:15:36</td>\n",
       "      <td>2019-01-01 14:15:36</td>\n",
       "      <td>52.307337</td>\n",
       "      <td>4.807633</td>\n",
       "      <td>52.307336</td>\n",
       "      <td>4.807630</td>\n",
       "      <td>2019-01-01 14:15:32</td>\n",
       "      <td>Tuesday</td>\n",
       "      <td>14</td>\n",
       "    </tr>\n",
       "    <tr>\n",
       "      <th>4</th>\n",
       "      <td>33852</td>\n",
       "      <td>13182</td>\n",
       "      <td>238</td>\n",
       "      <td>AR</td>\n",
       "      <td>6631000443</td>\n",
       "      <td>2019-01-01 14:33:50</td>\n",
       "      <td>2019-01-01 14:33:50</td>\n",
       "      <td>52.308478</td>\n",
       "      <td>4.809970</td>\n",
       "      <td>52.308537</td>\n",
       "      <td>4.810099</td>\n",
       "      <td>2019-01-01 14:33:46</td>\n",
       "      <td>Tuesday</td>\n",
       "      <td>14</td>\n",
       "    </tr>\n",
       "    <tr>\n",
       "      <th>5</th>\n",
       "      <td>33867</td>\n",
       "      <td>12674</td>\n",
       "      <td>787</td>\n",
       "      <td>AG</td>\n",
       "      <td>6631000283</td>\n",
       "      <td>2019-01-01 20:11:05</td>\n",
       "      <td>2019-01-01 20:11:05</td>\n",
       "      <td>52.506522</td>\n",
       "      <td>4.727323</td>\n",
       "      <td>52.506809</td>\n",
       "      <td>4.732135</td>\n",
       "      <td>2019-01-01 20:11:01</td>\n",
       "      <td>Tuesday</td>\n",
       "      <td>20</td>\n",
       "    </tr>\n",
       "  </tbody>\n",
       "</table>\n",
       "</div>"
      ],
      "text/plain": [
       "   tripid  userid  bikeid account  bikenumber          start_time  \\\n",
       "1   33838   13452     382      AR  6631000433 2019-01-01 06:46:03   \n",
       "2   33839   13452     812      AR  6631000146 2019-01-01 06:47:39   \n",
       "3   33851   13182     238      AR  6631000443 2019-01-01 14:15:36   \n",
       "4   33852   13182     238      AR  6631000443 2019-01-01 14:33:50   \n",
       "5   33867   12674     787      AG  6631000283 2019-01-01 20:11:05   \n",
       "\n",
       "             end_time  start_lat  start_lng    end_lat   end_lng  \\\n",
       "1 2019-01-01 06:46:03  52.296065   4.787667  52.296200  4.787679   \n",
       "2 2019-01-01 06:47:39  52.295938   4.788336  52.295940  4.788557   \n",
       "3 2019-01-01 14:15:36  52.307337   4.807633  52.307336  4.807630   \n",
       "4 2019-01-01 14:33:50  52.308478   4.809970  52.308537  4.810099   \n",
       "5 2019-01-01 20:11:05  52.506522   4.727323  52.506809  4.732135   \n",
       "\n",
       "                 date  weekday  hour  \n",
       "1 2019-01-01 06:46:00  Tuesday     6  \n",
       "2 2019-01-01 06:47:35  Tuesday     6  \n",
       "3 2019-01-01 14:15:32  Tuesday    14  \n",
       "4 2019-01-01 14:33:46  Tuesday    14  \n",
       "5 2019-01-01 20:11:01  Tuesday    20  "
      ]
     },
     "execution_count": 15,
     "metadata": {},
     "output_type": "execute_result"
    }
   ],
   "source": [
    "df.head()"
   ]
  },
  {
   "cell_type": "markdown",
   "metadata": {},
   "source": [
    "### 2. Welke invloeden verwacht je van, en op welke manier kun je je model gevoelig maken voor factoren?\n",
    "Om het model gevoeliger te maken voor factoren moet eerst besloten worden welke factoren invloed kunnen hebben over de uiteindelijke uitkomst van de voorspelling. Een aantal mogelijke factoren zijn al gegeven:\n",
    "1. Het weer.\n",
    "2. De dag van de week.\n",
    "3. Bijzondere dagen in het jaar, zoals feestdagen, schoolvakanties, etc.\n",
    "4. Eventueel andere factoren.\n",
    "\n",
    "Per bovenstaande factor zullen we nu de mogelijke invloed beschrijven:\n",
    "#### Het weer\n",
    "\n",
    "* Regen\t         \n",
    "    * Iemand die gewoonlijk loopt fietst nu\n",
    "    * Iemand die gewoonlijk fietst neemt shuttle/taxi\n",
    "* Zonneschijn \t \n",
    "    * Iemand die gewoonlijk fietst, kan gaan lopen\n",
    "    * Meer mensen fietsen\n",
    "* Onweer\n",
    "    * Mensen lopen eerder, zodat ze niet te groot zijn (minder kans op inslag)\n",
    "* Mistigheid\n",
    "    * Mensen fietsen wellicht minder bij weinig zicht "
   ]
  },
  {
   "cell_type": "code",
   "execution_count": 16,
   "metadata": {},
   "outputs": [
    {
     "data": {
      "text/html": [
       "<div>\n",
       "<style scoped>\n",
       "    .dataframe tbody tr th:only-of-type {\n",
       "        vertical-align: middle;\n",
       "    }\n",
       "\n",
       "    .dataframe tbody tr th {\n",
       "        vertical-align: top;\n",
       "    }\n",
       "\n",
       "    .dataframe thead th {\n",
       "        text-align: right;\n",
       "    }\n",
       "</style>\n",
       "<table border=\"1\" class=\"dataframe\">\n",
       "  <thead>\n",
       "    <tr style=\"text-align: right;\">\n",
       "      <th></th>\n",
       "      <th>Station</th>\n",
       "      <th>Date</th>\n",
       "      <th>Hour</th>\n",
       "      <th>T</th>\n",
       "      <th>R</th>\n",
       "      <th>O</th>\n",
       "      <th>S</th>\n",
       "      <th>VV</th>\n",
       "      <th>RH</th>\n",
       "    </tr>\n",
       "  </thead>\n",
       "  <tbody>\n",
       "    <tr>\n",
       "      <th>0</th>\n",
       "      <td>240</td>\n",
       "      <td>2019-01-01</td>\n",
       "      <td>1</td>\n",
       "      <td>85</td>\n",
       "      <td>0</td>\n",
       "      <td>0</td>\n",
       "      <td>0</td>\n",
       "      <td>69</td>\n",
       "      <td>0</td>\n",
       "    </tr>\n",
       "    <tr>\n",
       "      <th>1</th>\n",
       "      <td>240</td>\n",
       "      <td>2019-01-01</td>\n",
       "      <td>2</td>\n",
       "      <td>86</td>\n",
       "      <td>0</td>\n",
       "      <td>0</td>\n",
       "      <td>0</td>\n",
       "      <td>75</td>\n",
       "      <td>0</td>\n",
       "    </tr>\n",
       "    <tr>\n",
       "      <th>2</th>\n",
       "      <td>240</td>\n",
       "      <td>2019-01-01</td>\n",
       "      <td>3</td>\n",
       "      <td>85</td>\n",
       "      <td>0</td>\n",
       "      <td>0</td>\n",
       "      <td>0</td>\n",
       "      <td>75</td>\n",
       "      <td>0</td>\n",
       "    </tr>\n",
       "    <tr>\n",
       "      <th>3</th>\n",
       "      <td>240</td>\n",
       "      <td>2019-01-01</td>\n",
       "      <td>4</td>\n",
       "      <td>82</td>\n",
       "      <td>0</td>\n",
       "      <td>0</td>\n",
       "      <td>0</td>\n",
       "      <td>70</td>\n",
       "      <td>0</td>\n",
       "    </tr>\n",
       "    <tr>\n",
       "      <th>4</th>\n",
       "      <td>240</td>\n",
       "      <td>2019-01-01</td>\n",
       "      <td>5</td>\n",
       "      <td>87</td>\n",
       "      <td>1</td>\n",
       "      <td>0</td>\n",
       "      <td>0</td>\n",
       "      <td>70</td>\n",
       "      <td>-1</td>\n",
       "    </tr>\n",
       "  </tbody>\n",
       "</table>\n",
       "</div>"
      ],
      "text/plain": [
       "  Station       Date  Hour   T  R  O  S  VV  RH\n",
       "0     240 2019-01-01     1  85  0  0  0  69   0\n",
       "1     240 2019-01-01     2  86  0  0  0  75   0\n",
       "2     240 2019-01-01     3  85  0  0  0  75   0\n",
       "3     240 2019-01-01     4  82  0  0  0  70   0\n",
       "4     240 2019-01-01     5  87  1  0  0  70  -1"
      ]
     },
     "execution_count": 16,
     "metadata": {},
     "output_type": "execute_result"
    }
   ],
   "source": [
    "df_KNMI.head()"
   ]
  },
  {
   "cell_type": "code",
   "execution_count": 17,
   "metadata": {
    "scrolled": true
   },
   "outputs": [
    {
     "data": {
      "text/html": [
       "<div>\n",
       "<style scoped>\n",
       "    .dataframe tbody tr th:only-of-type {\n",
       "        vertical-align: middle;\n",
       "    }\n",
       "\n",
       "    .dataframe tbody tr th {\n",
       "        vertical-align: top;\n",
       "    }\n",
       "\n",
       "    .dataframe thead th {\n",
       "        text-align: right;\n",
       "    }\n",
       "</style>\n",
       "<table border=\"1\" class=\"dataframe\">\n",
       "  <thead>\n",
       "    <tr style=\"text-align: right;\">\n",
       "      <th></th>\n",
       "      <th>Hour</th>\n",
       "      <th>T</th>\n",
       "      <th>R</th>\n",
       "      <th>O</th>\n",
       "      <th>S</th>\n",
       "      <th>VV</th>\n",
       "      <th>RH</th>\n",
       "    </tr>\n",
       "  </thead>\n",
       "  <tbody>\n",
       "    <tr>\n",
       "      <th>count</th>\n",
       "      <td>8232.000000</td>\n",
       "      <td>8232.000000</td>\n",
       "      <td>8232.000000</td>\n",
       "      <td>8232.000000</td>\n",
       "      <td>8232.000000</td>\n",
       "      <td>8232.000000</td>\n",
       "      <td>8232.000000</td>\n",
       "    </tr>\n",
       "    <tr>\n",
       "      <th>mean</th>\n",
       "      <td>12.500000</td>\n",
       "      <td>116.491861</td>\n",
       "      <td>0.225705</td>\n",
       "      <td>0.009475</td>\n",
       "      <td>0.004130</td>\n",
       "      <td>67.019679</td>\n",
       "      <td>0.896137</td>\n",
       "    </tr>\n",
       "    <tr>\n",
       "      <th>std</th>\n",
       "      <td>6.922607</td>\n",
       "      <td>63.412002</td>\n",
       "      <td>0.418071</td>\n",
       "      <td>0.096884</td>\n",
       "      <td>0.064138</td>\n",
       "      <td>13.044678</td>\n",
       "      <td>5.312517</td>\n",
       "    </tr>\n",
       "    <tr>\n",
       "      <th>min</th>\n",
       "      <td>1.000000</td>\n",
       "      <td>-68.000000</td>\n",
       "      <td>0.000000</td>\n",
       "      <td>0.000000</td>\n",
       "      <td>0.000000</td>\n",
       "      <td>0.000000</td>\n",
       "      <td>-1.000000</td>\n",
       "    </tr>\n",
       "    <tr>\n",
       "      <th>25%</th>\n",
       "      <td>6.750000</td>\n",
       "      <td>70.750000</td>\n",
       "      <td>0.000000</td>\n",
       "      <td>0.000000</td>\n",
       "      <td>0.000000</td>\n",
       "      <td>63.000000</td>\n",
       "      <td>0.000000</td>\n",
       "    </tr>\n",
       "    <tr>\n",
       "      <th>50%</th>\n",
       "      <td>12.500000</td>\n",
       "      <td>112.000000</td>\n",
       "      <td>0.000000</td>\n",
       "      <td>0.000000</td>\n",
       "      <td>0.000000</td>\n",
       "      <td>70.000000</td>\n",
       "      <td>0.000000</td>\n",
       "    </tr>\n",
       "    <tr>\n",
       "      <th>75%</th>\n",
       "      <td>18.250000</td>\n",
       "      <td>162.000000</td>\n",
       "      <td>0.000000</td>\n",
       "      <td>0.000000</td>\n",
       "      <td>0.000000</td>\n",
       "      <td>75.000000</td>\n",
       "      <td>0.000000</td>\n",
       "    </tr>\n",
       "    <tr>\n",
       "      <th>max</th>\n",
       "      <td>24.000000</td>\n",
       "      <td>361.000000</td>\n",
       "      <td>1.000000</td>\n",
       "      <td>1.000000</td>\n",
       "      <td>1.000000</td>\n",
       "      <td>83.000000</td>\n",
       "      <td>161.000000</td>\n",
       "    </tr>\n",
       "  </tbody>\n",
       "</table>\n",
       "</div>"
      ],
      "text/plain": [
       "              Hour            T            R            O            S  \\\n",
       "count  8232.000000  8232.000000  8232.000000  8232.000000  8232.000000   \n",
       "mean     12.500000   116.491861     0.225705     0.009475     0.004130   \n",
       "std       6.922607    63.412002     0.418071     0.096884     0.064138   \n",
       "min       1.000000   -68.000000     0.000000     0.000000     0.000000   \n",
       "25%       6.750000    70.750000     0.000000     0.000000     0.000000   \n",
       "50%      12.500000   112.000000     0.000000     0.000000     0.000000   \n",
       "75%      18.250000   162.000000     0.000000     0.000000     0.000000   \n",
       "max      24.000000   361.000000     1.000000     1.000000     1.000000   \n",
       "\n",
       "                VV           RH  \n",
       "count  8232.000000  8232.000000  \n",
       "mean     67.019679     0.896137  \n",
       "std      13.044678     5.312517  \n",
       "min       0.000000    -1.000000  \n",
       "25%      63.000000     0.000000  \n",
       "50%      70.000000     0.000000  \n",
       "75%      75.000000     0.000000  \n",
       "max      83.000000   161.000000  "
      ]
     },
     "execution_count": 17,
     "metadata": {},
     "output_type": "execute_result"
    }
   ],
   "source": [
    "df_KNMI.describe()"
   ]
  },
  {
   "cell_type": "markdown",
   "metadata": {},
   "source": [
    "##### Gevoeligheid model\n",
    "Het model valt gevoelig te maken voor weer door een aantal weersverschijnselen direct als variabelen mee te nemen. De volgende data komt direct van het KNMI, en gaat over de gegeven tijdspanne. Zie `KR.data_dictionary` voor uitleg van ieder mogelijk variabele gegeven door KNMI. "
   ]
  },
  {
   "cell_type": "markdown",
   "metadata": {},
   "source": [
    "#### De dag van de week\n",
    "* Vrijdag \t\n",
    "  * Vaak gebruikt als thuiswerkdagen \t\t\n",
    "* Zaterdag/zondag \t\n",
    "   * Weekend, geen werk, zwaar verminderd gebruik. "
   ]
  },
  {
   "cell_type": "code",
   "execution_count": 18,
   "metadata": {},
   "outputs": [
    {
     "data": {
      "text/plain": [
       "date\n",
       "Friday       158.265306\n",
       "Monday       191.959184\n",
       "Saturday      22.367347\n",
       "Sunday        20.229167\n",
       "Thursday     215.448980\n",
       "Tuesday      220.673469\n",
       "Wednesday    199.571429\n",
       "Name: tripid, dtype: float64"
      ]
     },
     "execution_count": 18,
     "metadata": {},
     "output_type": "execute_result"
    }
   ],
   "source": [
    "df_weekday = df_dates_count.copy(deep=True)\n",
    "df_weekday.index = df_weekday.index.day_name()\n",
    "\n",
    "df_weekday.groupby(df_weekday.index).mean()"
   ]
  },
  {
   "cell_type": "code",
   "execution_count": 19,
   "metadata": {},
   "outputs": [
    {
     "data": {
      "text/plain": [
       "date\n",
       "Tuesday        8\n",
       "Wednesday     61\n",
       "Thursday      90\n",
       "Friday        64\n",
       "Saturday      17\n",
       "            ... \n",
       "Thursday     310\n",
       "Friday       203\n",
       "Saturday      14\n",
       "Sunday        19\n",
       "Monday       253\n",
       "Name: tripid, Length: 342, dtype: int64"
      ]
     },
     "execution_count": 19,
     "metadata": {},
     "output_type": "execute_result"
    }
   ],
   "source": [
    "df_weekday"
   ]
  },
  {
   "cell_type": "code",
   "execution_count": 20,
   "metadata": {},
   "outputs": [
    {
     "data": {
      "image/png": "[encoded data removed]",
      "text/plain": [
       "<Figure size 432x288 with 1 Axes>"
      ]
     },
     "metadata": {
      "needs_background": "light"
     },
     "output_type": "display_data"
    }
   ],
   "source": [
    "sns.boxplot(x=df_weekday.index, y=df_weekday.values)\n",
    "plt.xlabel('Day')\n",
    "plt.ylabel('Amount of bicycles rented')\n",
    "plt.title('')\n",
    "plt.show()"
   ]
  },
  {
   "cell_type": "markdown",
   "metadata": {},
   "source": [
    "##### Gevoeligheid model\n",
    "Uit de boxplots hierboven blijkt dat vrijdag, zaterdag en zondag inderdaad verminderd gebruik van Flickbikes ziet. Of dit te wijten valt aan de eerder gegeven redeneringen, is onbekend. \n",
    "\n",
    "Het model valt gevoelig te maken voor deze variabelen door twee boolean variabelen aan te maken; is een dag een vrijdag, en valt een dag in het weekend. "
   ]
  },
  {
   "cell_type": "code",
   "execution_count": 21,
   "metadata": {},
   "outputs": [
    {
     "data": {
      "text/html": [
       "<div>\n",
       "<style scoped>\n",
       "    .dataframe tbody tr th:only-of-type {\n",
       "        vertical-align: middle;\n",
       "    }\n",
       "\n",
       "    .dataframe tbody tr th {\n",
       "        vertical-align: top;\n",
       "    }\n",
       "\n",
       "    .dataframe thead th {\n",
       "        text-align: right;\n",
       "    }\n",
       "</style>\n",
       "<table border=\"1\" class=\"dataframe\">\n",
       "  <thead>\n",
       "    <tr style=\"text-align: right;\">\n",
       "      <th></th>\n",
       "      <th>Friday</th>\n",
       "      <th>Weekend</th>\n",
       "    </tr>\n",
       "  </thead>\n",
       "  <tbody>\n",
       "    <tr>\n",
       "      <th>count</th>\n",
       "      <td>50377</td>\n",
       "      <td>50377</td>\n",
       "    </tr>\n",
       "    <tr>\n",
       "      <th>unique</th>\n",
       "      <td>2</td>\n",
       "      <td>2</td>\n",
       "    </tr>\n",
       "    <tr>\n",
       "      <th>top</th>\n",
       "      <td>False</td>\n",
       "      <td>False</td>\n",
       "    </tr>\n",
       "    <tr>\n",
       "      <th>freq</th>\n",
       "      <td>42622</td>\n",
       "      <td>48310</td>\n",
       "    </tr>\n",
       "  </tbody>\n",
       "</table>\n",
       "</div>"
      ],
      "text/plain": [
       "       Friday Weekend\n",
       "count   50377   50377\n",
       "unique      2       2\n",
       "top     False   False\n",
       "freq    42622   48310"
      ]
     },
     "execution_count": 21,
     "metadata": {},
     "output_type": "execute_result"
    }
   ],
   "source": [
    "df['Friday'] = (df['weekday'] == 'Friday')\n",
    "df['Weekend'] = (df['weekday'] == 'Saturday') | (df['weekday'] == 'Sunday')\n",
    "df[['Friday', 'Weekend']].describe()"
   ]
  },
  {
   "cell_type": "markdown",
   "metadata": {},
   "source": [
    "#### Bijzondere dagen in het jaar\n",
    "* Feestdagen \t\t\n",
    "  * ‘verplicht’ vrij, geen werk\n",
    "* Schoolvakanties \n",
    "    * Minder fietsen benodigd, x percentage werkende mensen met vakantie.  \n",
    "\n",
    "Allereerst zal gekeken worden in hoeverre een school vakantie invloed zal hebben op het verhuur van fietsen."
   ]
  },
  {
   "cell_type": "code",
   "execution_count": 22,
   "metadata": {},
   "outputs": [
    {
     "data": {
      "text/html": [
       "<div>\n",
       "<style scoped>\n",
       "    .dataframe tbody tr th:only-of-type {\n",
       "        vertical-align: middle;\n",
       "    }\n",
       "\n",
       "    .dataframe tbody tr th {\n",
       "        vertical-align: top;\n",
       "    }\n",
       "\n",
       "    .dataframe thead th {\n",
       "        text-align: right;\n",
       "    }\n",
       "</style>\n",
       "<table border=\"1\" class=\"dataframe\">\n",
       "  <thead>\n",
       "    <tr style=\"text-align: right;\">\n",
       "      <th></th>\n",
       "      <th>School holiday</th>\n",
       "    </tr>\n",
       "  </thead>\n",
       "  <tbody>\n",
       "    <tr>\n",
       "      <th>count</th>\n",
       "      <td>50377</td>\n",
       "    </tr>\n",
       "    <tr>\n",
       "      <th>unique</th>\n",
       "      <td>2</td>\n",
       "    </tr>\n",
       "    <tr>\n",
       "      <th>top</th>\n",
       "      <td>False</td>\n",
       "    </tr>\n",
       "    <tr>\n",
       "      <th>freq</th>\n",
       "      <td>40664</td>\n",
       "    </tr>\n",
       "  </tbody>\n",
       "</table>\n",
       "</div>"
      ],
      "text/plain": [
       "       School holiday\n",
       "count           50377\n",
       "unique              2\n",
       "top             False\n",
       "freq            40664"
      ]
     },
     "execution_count": 22,
     "metadata": {},
     "output_type": "execute_result"
    }
   ],
   "source": [
    "df['School holiday'] = df['start_time'].dt.date.isin(ser_holidays)\n",
    "df[['School holiday']].describe()"
   ]
  },
  {
   "cell_type": "code",
   "execution_count": 23,
   "metadata": {},
   "outputs": [
    {
     "data": {
      "text/html": [
       "<div>\n",
       "<style scoped>\n",
       "    .dataframe tbody tr th:only-of-type {\n",
       "        vertical-align: middle;\n",
       "    }\n",
       "\n",
       "    .dataframe tbody tr th {\n",
       "        vertical-align: top;\n",
       "    }\n",
       "\n",
       "    .dataframe thead th {\n",
       "        text-align: right;\n",
       "    }\n",
       "</style>\n",
       "<table border=\"1\" class=\"dataframe\">\n",
       "  <thead>\n",
       "    <tr style=\"text-align: right;\">\n",
       "      <th></th>\n",
       "      <th></th>\n",
       "      <th>tripid</th>\n",
       "    </tr>\n",
       "    <tr>\n",
       "      <th>weekday</th>\n",
       "      <th>School holiday</th>\n",
       "      <th></th>\n",
       "    </tr>\n",
       "  </thead>\n",
       "  <tbody>\n",
       "    <tr>\n",
       "      <th rowspan=\"2\" valign=\"top\">Friday</th>\n",
       "      <th>False</th>\n",
       "      <td>156.550000</td>\n",
       "    </tr>\n",
       "    <tr>\n",
       "      <th>True</th>\n",
       "      <td>149.300000</td>\n",
       "    </tr>\n",
       "    <tr>\n",
       "      <th rowspan=\"2\" valign=\"top\">Monday</th>\n",
       "      <th>False</th>\n",
       "      <td>194.975000</td>\n",
       "    </tr>\n",
       "    <tr>\n",
       "      <th>True</th>\n",
       "      <td>178.555556</td>\n",
       "    </tr>\n",
       "    <tr>\n",
       "      <th rowspan=\"2\" valign=\"top\">Saturday</th>\n",
       "      <th>False</th>\n",
       "      <td>21.777778</td>\n",
       "    </tr>\n",
       "    <tr>\n",
       "      <th>True</th>\n",
       "      <td>24.000000</td>\n",
       "    </tr>\n",
       "    <tr>\n",
       "      <th rowspan=\"2\" valign=\"top\">Sunday</th>\n",
       "      <th>False</th>\n",
       "      <td>18.916667</td>\n",
       "    </tr>\n",
       "    <tr>\n",
       "      <th>True</th>\n",
       "      <td>24.166667</td>\n",
       "    </tr>\n",
       "    <tr>\n",
       "      <th rowspan=\"2\" valign=\"top\">Thursday</th>\n",
       "      <th>False</th>\n",
       "      <td>219.974359</td>\n",
       "    </tr>\n",
       "    <tr>\n",
       "      <th>True</th>\n",
       "      <td>197.800000</td>\n",
       "    </tr>\n",
       "    <tr>\n",
       "      <th rowspan=\"2\" valign=\"top\">Tuesday</th>\n",
       "      <th>False</th>\n",
       "      <td>225.974359</td>\n",
       "    </tr>\n",
       "    <tr>\n",
       "      <th>True</th>\n",
       "      <td>200.000000</td>\n",
       "    </tr>\n",
       "    <tr>\n",
       "      <th rowspan=\"2\" valign=\"top\">Wednesday</th>\n",
       "      <th>False</th>\n",
       "      <td>198.615385</td>\n",
       "    </tr>\n",
       "    <tr>\n",
       "      <th>True</th>\n",
       "      <td>203.300000</td>\n",
       "    </tr>\n",
       "  </tbody>\n",
       "</table>\n",
       "</div>"
      ],
      "text/plain": [
       "                              tripid\n",
       "weekday   School holiday            \n",
       "Friday    False           156.550000\n",
       "          True            149.300000\n",
       "Monday    False           194.975000\n",
       "          True            178.555556\n",
       "Saturday  False            21.777778\n",
       "          True             24.000000\n",
       "Sunday    False            18.916667\n",
       "          True             24.166667\n",
       "Thursday  False           219.974359\n",
       "          True            197.800000\n",
       "Tuesday   False           225.974359\n",
       "          True            200.000000\n",
       "Wednesday False           198.615385\n",
       "          True            203.300000"
      ]
     },
     "execution_count": 23,
     "metadata": {},
     "output_type": "execute_result"
    }
   ],
   "source": [
    "df_days = df.groupby([df[\"School holiday\"], df[\"weekday\"], df[\"date\"].dt.date])[[\"tripid\"]].count().reset_index()\n",
    "df_holidays = df_days.groupby([df_days[\"weekday\"], df_days[\"School holiday\"]])[[\"tripid\"]].mean()\n",
    "df_holidays"
   ]
  },
  {
   "cell_type": "code",
   "execution_count": 24,
   "metadata": {},
   "outputs": [
    {
     "data": {
      "image/png": "[encoded data removed]",
      "text/plain": [
       "<Figure size 1440x432 with 1 Axes>"
      ]
     },
     "metadata": {},
     "output_type": "display_data"
    }
   ],
   "source": [
    "sns.set_style(\"darkgrid\")\n",
    "df_holidays.plot(kind=\"bar\", figsize=(20, 6))\n",
    "\n",
    "plt.title('')\n",
    "plt.ylabel('')\n",
    "\n",
    "plt.show()"
   ]
  },
  {
   "cell_type": "markdown",
   "metadata": {},
   "source": [
    "Hierna zal gekeken worden in hoeverre nationale feestdagen invloed hebben op het verhuur van fietsen."
   ]
  },
  {
   "cell_type": "code",
   "execution_count": 25,
   "metadata": {},
   "outputs": [
    {
     "data": {
      "text/html": [
       "<div>\n",
       "<style scoped>\n",
       "    .dataframe tbody tr th:only-of-type {\n",
       "        vertical-align: middle;\n",
       "    }\n",
       "\n",
       "    .dataframe tbody tr th {\n",
       "        vertical-align: top;\n",
       "    }\n",
       "\n",
       "    .dataframe thead th {\n",
       "        text-align: right;\n",
       "    }\n",
       "</style>\n",
       "<table border=\"1\" class=\"dataframe\">\n",
       "  <thead>\n",
       "    <tr style=\"text-align: right;\">\n",
       "      <th></th>\n",
       "      <th>National holiday</th>\n",
       "    </tr>\n",
       "  </thead>\n",
       "  <tbody>\n",
       "    <tr>\n",
       "      <th>count</th>\n",
       "      <td>50377</td>\n",
       "    </tr>\n",
       "    <tr>\n",
       "      <th>unique</th>\n",
       "      <td>2</td>\n",
       "    </tr>\n",
       "    <tr>\n",
       "      <th>top</th>\n",
       "      <td>False</td>\n",
       "    </tr>\n",
       "    <tr>\n",
       "      <th>freq</th>\n",
       "      <td>50110</td>\n",
       "    </tr>\n",
       "  </tbody>\n",
       "</table>\n",
       "</div>"
      ],
      "text/plain": [
       "       National holiday\n",
       "count             50377\n",
       "unique                2\n",
       "top               False\n",
       "freq              50110"
      ]
     },
     "execution_count": 25,
     "metadata": {},
     "output_type": "execute_result"
    }
   ],
   "source": [
    "df['National holiday'] = df['start_time'].dt.date.isin(df_nat_hol['date'].dt.date)\n",
    "df[['National holiday']].describe()"
   ]
  },
  {
   "cell_type": "code",
   "execution_count": 26,
   "metadata": {
    "scrolled": true
   },
   "outputs": [
    {
     "data": {
      "text/html": [
       "<div>\n",
       "<style scoped>\n",
       "    .dataframe tbody tr th:only-of-type {\n",
       "        vertical-align: middle;\n",
       "    }\n",
       "\n",
       "    .dataframe tbody tr th {\n",
       "        vertical-align: top;\n",
       "    }\n",
       "\n",
       "    .dataframe thead th {\n",
       "        text-align: right;\n",
       "    }\n",
       "</style>\n",
       "<table border=\"1\" class=\"dataframe\">\n",
       "  <thead>\n",
       "    <tr style=\"text-align: right;\">\n",
       "      <th></th>\n",
       "      <th>tripid</th>\n",
       "    </tr>\n",
       "    <tr>\n",
       "      <th>start_time</th>\n",
       "      <th></th>\n",
       "    </tr>\n",
       "  </thead>\n",
       "  <tbody>\n",
       "    <tr>\n",
       "      <th>2019-01-01</th>\n",
       "      <td>8</td>\n",
       "    </tr>\n",
       "    <tr>\n",
       "      <th>2019-04-19</th>\n",
       "      <td>160</td>\n",
       "    </tr>\n",
       "    <tr>\n",
       "      <th>2019-04-21</th>\n",
       "      <td>21</td>\n",
       "    </tr>\n",
       "    <tr>\n",
       "      <th>2019-04-22</th>\n",
       "      <td>24</td>\n",
       "    </tr>\n",
       "    <tr>\n",
       "      <th>2019-04-27</th>\n",
       "      <td>5</td>\n",
       "    </tr>\n",
       "    <tr>\n",
       "      <th>2019-05-05</th>\n",
       "      <td>12</td>\n",
       "    </tr>\n",
       "    <tr>\n",
       "      <th>2019-05-30</th>\n",
       "      <td>26</td>\n",
       "    </tr>\n",
       "    <tr>\n",
       "      <th>2019-06-10</th>\n",
       "      <td>11</td>\n",
       "    </tr>\n",
       "  </tbody>\n",
       "</table>\n",
       "</div>"
      ],
      "text/plain": [
       "            tripid\n",
       "start_time        \n",
       "2019-01-01       8\n",
       "2019-04-19     160\n",
       "2019-04-21      21\n",
       "2019-04-22      24\n",
       "2019-04-27       5\n",
       "2019-05-05      12\n",
       "2019-05-30      26\n",
       "2019-06-10      11"
      ]
     },
     "execution_count": 26,
     "metadata": {},
     "output_type": "execute_result"
    }
   ],
   "source": [
    "df_nat_hol_count = df[df['National holiday'] == True].groupby(df['start_time'].dt.date)[['tripid']].count()\n",
    "df_nat_hol_count"
   ]
  },
  {
   "cell_type": "code",
   "execution_count": 27,
   "metadata": {},
   "outputs": [
    {
     "data": {
      "image/png": "[encoded data removed]",
      "text/plain": [
       "<Figure size 1440x576 with 1 Axes>"
      ]
     },
     "metadata": {},
     "output_type": "display_data"
    }
   ],
   "source": [
    "plt.figure(figsize=(20, 8))\n",
    "sns.set_style(\"darkgrid\")\n",
    "\n",
    "total_mean = df.groupby(df['start_time'].dt.date)['tripid'].count().mean()\n",
    "mean_list = np.full(len(df_nat_hol_count), total_mean)\n",
    "\n",
    "x_pos = np.arange(len(df_nat_hol_count))\n",
    "\n",
    "plt.bar(x_pos-0.1, df_nat_hol_count['tripid'], width=0.2, color='b', align='center', label='National Holiday date')\n",
    "plt.bar(x_pos+0.1, mean_list, width=0.2, color='r', align='center', label='Mean amount of bicycles rented')\n",
    "\n",
    "plt.xticks(x_pos, df_nat_hol_count.index)\n",
    "\n",
    "plt.title('Overview of bicycles rented during holidays against mean amount of bicycles rented overall')\n",
    "plt.ylabel('Amount of bicycles rented')\n",
    "\n",
    "plt.legend()\n",
    "plt.show()"
   ]
  },
  {
   "cell_type": "markdown",
   "metadata": {},
   "source": [
    "In de grafiek hierboven valt te zien dat er op nationale feestdagen veel minder fietsen verhuurd worden dan normaal. Een uitschieter is 19 april. Dit is goede vrijdag en is officieel niet een feestdag waarop mensen vrij moeten krijgen.  \n",
    "  \n",
    "**source**:\n",
    "- https://www.rijksoverheid.nl/onderwerpen/arbeidsovereenkomst-en-cao/vraag-en-antwoord/goede-vrijdag-vrije-dag"
   ]
  },
  {
   "cell_type": "markdown",
   "metadata": {},
   "source": [
    "##### Gevoeligheid model\n",
    "Hier moet eerst data over verzameld worden, deze data is te vinden op de websites van de (rijks)overheid. \n",
    "\n",
    "Ook valt het model voor deze variabelen gevoelig te maken door middel van het aanmaken van boolean variabelen; is een dag een feestdag, en valt een dag in een schoolvakantie."
   ]
  },
  {
   "cell_type": "markdown",
   "metadata": {},
   "source": [
    "### Eventuele andere factoren\n",
    "Bij eventuele andere factoren kan gedacht worden aan factoren die, tot nu toe, nog niet benoemd zijn maar misschien wel een invloed kunnen hebben op de uitslag van de voorspelling. Bij dit soort factoren kan gedacht worden aan:\n",
    "\n",
    "#### Uur van de dag\n",
    "* Woensdag\t\n",
    "  * Kinderen eerder uit, eerder weg\n",
    "* Vrijdag \t\t\n",
    "  * Eerder vrij of vrijmibo, eerder/later weg\n",
    "* Spitstijd\t\n",
    "  * Meer fietsen benodigd in de spits dan erbuiten.\n",
    "* Lunchpauze \n",
    "  * Mensen pakken de fiets om elders hun lunchpauze te houden.\n",
    "\n",
    "Om erachter te komen in hoeverre deze factoren een rol spelen zullen plots gemaakt worden die ofwel kunnen helpen om in het bewijs dat deze factoren een rol zullen spelen in de uiteindelijke voorspelling of kunnen helpen in het bewijs dat deze factoren geen rol zullen spelen in de uiteindelijke voorspelling.  \n",
    "\n",
    "Allereerst worden voor alle dinsdagen, woensdagen en vrijdagen per uur de gemiddelde hoeveelheid verhuurde fietsen geplot. De dinsdag is er extra bij gekozen zodat het als base case kan dienen om de aannames voor woensdag en vrijdag te testen."
   ]
  },
  {
   "cell_type": "code",
   "execution_count": 28,
   "metadata": {},
   "outputs": [],
   "source": [
    "df_tuesday = df[df['weekday'] == 'Tuesday'].groupby([df['date'].dt.date, df['start_time'].dt.hour])['tripid'].count().to_frame().reset_index()\n",
    "df_wednesday = df[df['weekday'] == 'Wednesday'].groupby([df['date'].dt.date, df['start_time'].dt.hour])['tripid'].count().to_frame().reset_index()\n",
    "df_friday = df[df['weekday'] == 'Friday'].groupby([df['date'].dt.date, df['start_time'].dt.hour])['tripid'].count().to_frame().reset_index()"
   ]
  },
  {
   "cell_type": "code",
   "execution_count": 29,
   "metadata": {},
   "outputs": [
    {
     "data": {
      "image/png": "[encoded data removed]",
      "text/plain": [
       "<Figure size 1440x432 with 3 Axes>"
      ]
     },
     "metadata": {},
     "output_type": "display_data"
    }
   ],
   "source": [
    "plt.figure(figsize=(20, 6))\n",
    "sns.set_style(\"darkgrid\")\n",
    "\n",
    "y_pos = np.arange(24)\n",
    "\n",
    "\n",
    "ax1 = plt.subplot(131)\n",
    "ax1.bar(y_pos, df_tuesday.groupby(df_tuesday['start_time']).mean()['tripid'], align='center', alpha=0.5)\n",
    "\n",
    "ax1.set_xticks(y_pos)\n",
    "ax1.set_ylabel('Number of bicycles rented')\n",
    "ax1.set_title('Mean amount of bicycles rented per hour on Tuesday')\n",
    "\n",
    "\n",
    "ax2 = plt.subplot(132, sharey=ax1)\n",
    "ax2.bar(y_pos, df_wednesday.groupby(df_wednesday['start_time']).mean()['tripid'], align='center', alpha=0.5)\n",
    "\n",
    "ax2.set_xticks(y_pos)\n",
    "ax2.set_ylabel('Number of bicycles rented')\n",
    "ax2.set_title('Mean amount of bicycles rented per hour on Wednesday')\n",
    "\n",
    "\n",
    "ax3 = plt.subplot(133, sharey=ax1)\n",
    "ax3.bar(y_pos, df_friday.groupby(df_friday['start_time']).mean()['tripid'], align='center', alpha=0.5)\n",
    "\n",
    "ax3.set_xticks(y_pos)\n",
    "ax3.set_ylabel('Number of bicycles rented')\n",
    "ax3.set_title('Mean amount of bicycles rented per hour on Friday')\n",
    "\n",
    "plt.show()"
   ]
  },
  {
   "cell_type": "markdown",
   "metadata": {},
   "source": [
    "Aangezien een groter plaatje ook handig is worden voor woensdag en vrijdag nu ook de boxplotten geplot. Dit geeft een overzicht van het bereik per uur weer."
   ]
  },
  {
   "cell_type": "code",
   "execution_count": 30,
   "metadata": {},
   "outputs": [
    {
     "data": {
      "image/png": "[encoded data removed]",
      "text/plain": [
       "<Figure size 432x288 with 1 Axes>"
      ]
     },
     "metadata": {},
     "output_type": "display_data"
    }
   ],
   "source": [
    "sns.boxplot(x=df_tuesday['start_time'], y=df_tuesday['tripid'])\n",
    "plt.xlabel('day hours')\n",
    "plt.ylabel('Number of bicycles rented')\n",
    "plt.title('Amount of bicycles rented per hour on Tuesday')\n",
    "plt.show()"
   ]
  },
  {
   "cell_type": "code",
   "execution_count": 31,
   "metadata": {},
   "outputs": [
    {
     "data": {
      "image/png": "[encoded data removed]",
      "text/plain": [
       "<Figure size 432x288 with 1 Axes>"
      ]
     },
     "metadata": {},
     "output_type": "display_data"
    }
   ],
   "source": [
    "sns.boxplot(x=df_wednesday['start_time'], y=df_wednesday['tripid'])\n",
    "plt.xlabel('day hours')\n",
    "plt.ylabel('Number of bicycles rented')\n",
    "plt.title('Amount of bicycles rented per hour on Wednesday')\n",
    "plt.show()"
   ]
  },
  {
   "cell_type": "code",
   "execution_count": 32,
   "metadata": {},
   "outputs": [
    {
     "data": {
      "image/png": "[encoded data removed]",
      "text/plain": [
       "<Figure size 432x288 with 1 Axes>"
      ]
     },
     "metadata": {},
     "output_type": "display_data"
    }
   ],
   "source": [
    "sns.boxplot(x=df_friday['start_time'], y=df_friday['tripid'])\n",
    "plt.xlabel('day hours')\n",
    "plt.ylabel('Number of bicycles rented')\n",
    "plt.title('Amount of bicycles rented per hour on Friday')\n",
    "plt.show()"
   ]
  },
  {
   "cell_type": "markdown",
   "metadata": {},
   "source": [
    "##### Gevoeligheid model\n",
    "\n",
    "Zoals in de grafieken te zien is zijn er tijdens de spitstijd en lunchtijd (kleine) pieken te zien. Echter vallen er geen grote verschillen te zien tussen dinsdagen en de andere dagen wat betreft mensen die eerder weg gaan (dit kan alsnog het geval zijn, maar deze mensen hebben dan geen fiets gehuurd).  \n",
    "Wat hier opnieuw opvalt is het feit dat er op vrijdag gemiddeld minder mensen een huurfiets lijken te pakken.  \n",
    "  \n",
    "Om het model gevoelig te maken voor deze groei kunnen de uren als variabelen meegegeven worden. Het model zal dan als het goed is zelf erachter komen dat sommige uren als spits of lunchijd gelden en andere uren niet. Echter zijn deze factoren voornamelijk van toepassing wanneer voorspeld moet worden waar er tekorten of overschotten zijn. Wanneer de 'groei' berekend moet worden, dus over een gehele dag, zullen deze factoren overbodig zijn."
   ]
  },
  {
   "cell_type": "markdown",
   "metadata": {},
   "source": [
    "#### Dagen sinds eerst meetmoment\n",
    "Het aantal Flickbike fietsen dat gehuurd wordt neemt met de dag toe, dit zal ook een effect hebben op het aantal gehuurde fietsen op de te voorspellen dagen. \n",
    "\n",
    "##### Gevoeligheid model\n",
    "Om het model gevoelig te maken voor deze groei, kan er een “dagen sinds meetmoment” variabel meegenomen worden. Het eerste meetpunt in de data zal dan dag `0`, het tweede meetpunt in de data zal dan dag `1` zijn, etc.\n",
    "\n",
    "<!-- LSTM is al gevoellig hiervoor, deze is dan niet nodig. -->"
   ]
  },
  {
   "cell_type": "code",
   "execution_count": 36,
   "metadata": {},
   "outputs": [
    {
     "data": {
      "text/html": [
       "<div>\n",
       "<style scoped>\n",
       "    .dataframe tbody tr th:only-of-type {\n",
       "        vertical-align: middle;\n",
       "    }\n",
       "\n",
       "    .dataframe tbody tr th {\n",
       "        vertical-align: top;\n",
       "    }\n",
       "\n",
       "    .dataframe thead th {\n",
       "        text-align: right;\n",
       "    }\n",
       "</style>\n",
       "<table border=\"1\" class=\"dataframe\">\n",
       "  <thead>\n",
       "    <tr style=\"text-align: right;\">\n",
       "      <th></th>\n",
       "      <th>date</th>\n",
       "      <th>Days from epoch</th>\n",
       "    </tr>\n",
       "  </thead>\n",
       "  <tbody>\n",
       "    <tr>\n",
       "      <th>9516</th>\n",
       "      <td>2019-04-16 08:43:43</td>\n",
       "      <td>105</td>\n",
       "    </tr>\n",
       "    <tr>\n",
       "      <th>14142</th>\n",
       "      <td>2019-05-16 11:52:25</td>\n",
       "      <td>135</td>\n",
       "    </tr>\n",
       "    <tr>\n",
       "      <th>16297</th>\n",
       "      <td>2019-05-29 07:31:45</td>\n",
       "      <td>148</td>\n",
       "    </tr>\n",
       "    <tr>\n",
       "      <th>28255</th>\n",
       "      <td>2019-08-07 13:26:19</td>\n",
       "      <td>218</td>\n",
       "    </tr>\n",
       "    <tr>\n",
       "      <th>37418</th>\n",
       "      <td>2019-10-04 16:58:15</td>\n",
       "      <td>276</td>\n",
       "    </tr>\n",
       "    <tr>\n",
       "      <th>1217</th>\n",
       "      <td>2019-01-22 11:10:13</td>\n",
       "      <td>21</td>\n",
       "    </tr>\n",
       "    <tr>\n",
       "      <th>4376</th>\n",
       "      <td>2019-02-27 13:53:04</td>\n",
       "      <td>57</td>\n",
       "    </tr>\n",
       "    <tr>\n",
       "      <th>34751</th>\n",
       "      <td>2019-09-17 08:43:57</td>\n",
       "      <td>259</td>\n",
       "    </tr>\n",
       "    <tr>\n",
       "      <th>4639</th>\n",
       "      <td>2019-03-01 08:06:48</td>\n",
       "      <td>59</td>\n",
       "    </tr>\n",
       "    <tr>\n",
       "      <th>39336</th>\n",
       "      <td>2019-10-15 15:21:19</td>\n",
       "      <td>287</td>\n",
       "    </tr>\n",
       "  </tbody>\n",
       "</table>\n",
       "</div>"
      ],
      "text/plain": [
       "                     date  Days from epoch\n",
       "9516  2019-04-16 08:43:43              105\n",
       "14142 2019-05-16 11:52:25              135\n",
       "16297 2019-05-29 07:31:45              148\n",
       "28255 2019-08-07 13:26:19              218\n",
       "37418 2019-10-04 16:58:15              276\n",
       "1217  2019-01-22 11:10:13               21\n",
       "4376  2019-02-27 13:53:04               57\n",
       "34751 2019-09-17 08:43:57              259\n",
       "4639  2019-03-01 08:06:48               59\n",
       "39336 2019-10-15 15:21:19              287"
      ]
     },
     "execution_count": 36,
     "metadata": {},
     "output_type": "execute_result"
    }
   ],
   "source": [
    "df['Days from epoch'] = (df['start_time'] - df['start_time'].min()).dt.days\n",
    "df[['date', 'Days from epoch']].sample(10)"
   ]
  },
  {
   "cell_type": "code",
   "execution_count": 34,
   "metadata": {},
   "outputs": [
    {
     "data": {
      "text/html": [
       "<div>\n",
       "<style scoped>\n",
       "    .dataframe tbody tr th:only-of-type {\n",
       "        vertical-align: middle;\n",
       "    }\n",
       "\n",
       "    .dataframe tbody tr th {\n",
       "        vertical-align: top;\n",
       "    }\n",
       "\n",
       "    .dataframe thead th {\n",
       "        text-align: right;\n",
       "    }\n",
       "</style>\n",
       "<table border=\"1\" class=\"dataframe\">\n",
       "  <thead>\n",
       "    <tr style=\"text-align: right;\">\n",
       "      <th></th>\n",
       "      <th>Days from epoch</th>\n",
       "      <th>tripid</th>\n",
       "    </tr>\n",
       "  </thead>\n",
       "  <tbody>\n",
       "    <tr>\n",
       "      <th>Days from epoch</th>\n",
       "      <td>1.000000</td>\n",
       "      <td>0.148735</td>\n",
       "    </tr>\n",
       "    <tr>\n",
       "      <th>tripid</th>\n",
       "      <td>0.148735</td>\n",
       "      <td>1.000000</td>\n",
       "    </tr>\n",
       "  </tbody>\n",
       "</table>\n",
       "</div>"
      ],
      "text/plain": [
       "                 Days from epoch    tripid\n",
       "Days from epoch         1.000000  0.148735\n",
       "tripid                  0.148735  1.000000"
      ]
     },
     "execution_count": 34,
     "metadata": {},
     "output_type": "execute_result"
    }
   ],
   "source": [
    "df_days_from = df.groupby([df[\"Days from epoch\"], df[\"date\"].dt.date])[[\"tripid\"]].count().reset_index()\n",
    "df_days_from[[\"Days from epoch\", \"tripid\"]].corr()"
   ]
  },
  {
   "cell_type": "markdown",
   "metadata": {},
   "source": [
    "Uit de bovenstaande correlatiematrix blijkt dat er een kleine correlatie bestaat tussen het aantal dagen sinds meetmoment en hoe vaak een fiets is gehuurd op een dag. Dit is echter gebaseerd op nog niet genormaliseerde data, en kan dus een enigsinds scheef beeld geven."
   ]
  },
  {
   "cell_type": "markdown",
   "metadata": {},
   "source": [
    "### 3. Hoe kan, op basis van data, worden voorspeld waar er tekorten van fietsen dreigen te ontstaan en hoe de fietsen het beste zo kunnen worden verplaatst dat ze zowel over het hele terrein van Schiphol-Oost beschikbaar zijn en tegelijkertijd vooral beschikbaar zijn op plaatsen waar het regelmatig druk is?\n",
    "\n",
    "De bovenstaande vraag bestaat eigenlijk uit twee vragen die, hoewel ze aan elkaar gelinkt zijn, apart behandeld kunnen worden. De bovenstaande vraag wordt dus opgedeeld in twee deelvragen, en zullen apart beantwoord worden.\n",
    "\n",
    "#### 3.1 Hoe kan, op basis van data, worden voorspeld waar er tekorten van fietsen dreigen te ontstaan?\n",
    "\n",
    "Om, op basis van data, te voorspellen waar tekorten van fietsen dreigen te ontstaan zullen verschillende stappen genomen moeten worden.\n",
    "\n",
    "Allereerst zal een clustering toegepast worden (e.g. K-means) om de locaties te bepalen waar veel fietsen gehuurd worden. Hiermee worden de locaties gedefinieerd waar mogelijke tekorten zouden kunnen ontstaan. \n",
    "\n",
    "Met behulp van deze gevonden ‘hotspots’ zou per uur voorspeld kunnen worden wat de behoefte van fietsen op een bepaalde plek is. In deze voorspelling kunnen extra factoren meegenomen worden zoals: het weer, uur op de dag, de dag zelf en of het een feestdag is.\n",
    "\n",
    "Hiervoor zal waarschijnlijk hetzelfde model gebruikt worden als degene die we bij vraag 1 gebruiken. Het enige verschil is dat dit model nu specifiek getraind zal worden op uren in plaats van dagen.\n",
    " \n",
    "\n",
    "#### 3.2 Hoe kunnen de fietsen het beste zo worden verplaatst dat ze zowel over het hele terrein van Schiphol-Oost beschikbaar zijn en tegelijkertijd vooral beschikbaar zijn op plaatsen waar het regelmatig druk is?\n",
    "\n",
    "<!-- https://www.datanovia.com/en/lessons/determining-the-optimal-number-of-clusters-3-must-know-methods/ -->\n",
    "\n",
    "Met dezelfde methode zou ook bepaald kunnen worden waar veel fietsen hun route beëindigen. Door middel van clustering kan dus ook worden gedefinieerd waar mogelijke overschotten kunnen ontstaan. Deze fietsen zouden dan verplaatst kunnen worden naar ‘drukke’ plaatsen.  \n",
    "  \n",
    "\n",
    "\n",
    "### 4. Hoe kun je berekenen met hoeveel fietsen zou FlickBike minimaal kunnen werken, zodanig dat te verwachten pieken op te vangen zijn?\n",
    "\n",
    "Ervan uitgaand dat dit over de pieken over de gehele periode gaat, kan het model uit vraag 3 gebruikt worden om per uur het verhuurde aantal fietsen te voorspellen. De grootste piek hiervan kan vervolgens berekend worden."
   ]
  },
  {
   "cell_type": "markdown",
   "metadata": {},
   "source": [
    "### 5. Hoe ga je de antwoorden op vragen (1)-(4) visualiseren?\n",
    "\n",
    "Om deze vraag te beantwoorden zal per bovenstaande vraag een antwoord gegeven worden.\n",
    "\n",
    "#### 1. Hoe bereken je  de groei van FlickBike? In het bijzonder: hoe voorspel je het aantal verhuurde fietsen op de dagen tussen 10 december 2019 en 31 januari 2020?\n",
    "\n",
    "Om de hoeveelheid verhuurde fietsen per dag te berekenen zullen we modellen trainen die uiteindelijk voorspellingen kunnen geven. Om deze voorspellingen te testen is de dataset opgesplitst in een training- en testset. Met de trainingset zullen we de modellen trainen om daarna met de testset de voorspellingen te testen. Hier komt uiteindelijk een RMSE uit. Om deze resultaten te visualiseren zullen we de échte waardes tegenover de voorspelde waardes plotten in een grafiek.\n",
    "\n",
    "#### 2.Welke invloeden verwacht je van, en op welke manier kun je je model gevoelig maken voor factoren?\n",
    "\n",
    "Om destijds deze vraag te beantwoorden zijn er over verschillende features die mogelijk invloed kunnen hebben op het model nagedacht. Ook is er beschreven hoe het model gevoelig gemaakt kan worden voor deze features.\n",
    "\n",
    "Wat betreft visualisaties hebben we onder iedere feature en de daarbij behorende onderbouwing  voor zover mogelijk overzichten, grafieken en plots gemaakt die ofwel de invloed van de feature rechtvaardigt ofwel gebruikt kan worden om de invloed van de feature uit te sluiten.\n",
    "\n",
    "\n",
    "#### 3. Hoe kan, op basis van data, worden voorspeld waar er tekorten van fietsen dreigen te ontstaan en hoe de fietsen het beste zo kunnen worden verplaatst dat ze zowel over het hele terrein van Schiphol-Oost beschikbaar zijn en tegelijkertijd vooral beschikbaar zijn op plaatsen waar het regelmatig druk is?\n",
    "\n",
    "Zoals ook al in de beschrijving van de methode staat gaan we allereerst op zoek naar bepaalde hotspots waar ofwel veel fietsen verhuurd worden ofwel veel fietsen gedropt worden. Om dit proces te visualiseren kunnen we een heatmap bouwen zodat al deze punten, als het goed is, naar voren komen om hierna de voorspelde punten eroverheen te plotten.\n",
    "\n",
    "Om de uiteindelijke voorspellingen te visualiseren kunnen we opnieuw de voorspelde waardes tegenover de echte waardes plotten om zo het verschil tussen de twee waarden weer te geven.\n",
    "\n",
    "\n",
    "#### 4. Hoe kun je berekenen met hoeveel fietsen zou FlickBike minimaal kunnen werken, zodanig dat te verwachten pieken op te vangen zijn?\n",
    "\n",
    "Wanneer alle voorspellingen gedaan en geplot zijn kan er door de hoogste pieken eruit te halen gekeken worden met hoeveel fietsen FlickBike minimaal zou moeten werken om alle verwachten pieken op te kunnen vangen. Wat betreft visualisaties kunnen hierbij alle voorspellingen geplot worden zodat de pieken visueel worden gemaakt.\n"
   ]
  }
 ],
 "metadata": {
  "kernelspec": {
   "display_name": "Python 3",
   "language": "python",
   "name": "python3"
  },
  "language_info": {
   "codemirror_mode": {
    "name": "ipython",
    "version": 3
   },
   "file_extension": ".py",
   "mimetype": "text/x-python",
   "name": "python",
   "nbconvert_exporter": "python",
   "pygments_lexer": "ipython3",
   "version": "3.7.7"
  }
 },
 "nbformat": 4,
 "nbformat_minor": 4
}
