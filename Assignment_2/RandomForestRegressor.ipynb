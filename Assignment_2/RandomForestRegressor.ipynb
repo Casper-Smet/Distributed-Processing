{
 "cells": [
  {
   "cell_type": "markdown",
   "metadata": {},
   "source": [
    "# Random Forest Regressor"
   ]
  },
  {
   "cell_type": "code",
   "execution_count": null,
   "metadata": {},
   "outputs": [],
   "source": [
    "import pandas as pd\n",
    "import numpy as np\n",
    "import matplotlib.pyplot as plt\n",
    "\n",
    "from sklearn.ensemble import RandomForestRegressor\n",
    "from sklearn.metrics import mean_squared_error\n",
    "from sklearn.model_selection import GridSearchCV\n",
    "from sklearn.tree import export_graphviz, plot_tree"
   ]
  },
  {
   "cell_type": "markdown",
   "metadata": {},
   "source": [
    "### Importing data\n",
    "\n",
    "The data from the training and test set are loaded in and shaped into the right format."
   ]
  },
  {
   "cell_type": "code",
   "execution_count": null,
   "metadata": {},
   "outputs": [],
   "source": [
    "df_train = pd.read_pickle(r\"../input/train.pkl\")\n",
    "X_train = df_train.drop([\"date\", \"count\"], axis=1)\n",
    "y_train = df_train[\"count\"]\n",
    "df_train.head()"
   ]
  },
  {
   "cell_type": "code",
   "execution_count": null,
   "metadata": {},
   "outputs": [],
   "source": [
    "df_test = pd.read_pickle(r\"../input/test.pkl\")\n",
    "X_test = df_test.drop([\"date\", \"count\"], axis=1)\n",
    "y_test = df_test[\"count\"]\n",
    "df_test.head()"
   ]
  },
  {
   "cell_type": "markdown",
   "metadata": {},
   "source": [
    "### Hyperparameter tuning using Grid Search\n",
    "\n",
    "In order to tune the hyperparameters _GridSearchCV_ is being used.\n",
    "The hyperparameters which are tested are:\n",
    "- _min_samples_leaf_\n",
    "- _n\\_estimators_\n",
    "\n",
    "After the tuning of the hyperparameters the model is being trained with the help of the data in the training set"
   ]
  },
  {
   "cell_type": "code",
   "execution_count": null,
   "metadata": {},
   "outputs": [],
   "source": [
    "parameters = {\"min_samples_leaf\" : list(range(1, 11)),\n",
    "             \"n_estimators\" : list(range(80, 241, 20))}\n",
    "clf = GridSearchCV(RandomForestRegressor(), parameters, n_jobs=4, scoring=\"neg_mean_squared_error\")\n",
    "clf.fit(X_train, y_train)"
   ]
  },
  {
   "cell_type": "code",
   "execution_count": null,
   "metadata": {},
   "outputs": [],
   "source": [
    "clf.best_params_"
   ]
  },
  {
   "cell_type": "markdown",
   "metadata": {},
   "source": [
    "With the help of the RMSE (Root Mean Square Error) the model is being tested on its performance."
   ]
  },
  {
   "cell_type": "code",
   "execution_count": null,
   "metadata": {},
   "outputs": [],
   "source": [
    "clf.score(X_test, y_test)\n",
    "y_pred = clf.predict(X_test)\n",
    "mean_squared_error(y_test, y_pred)**0.5"
   ]
  },
  {
   "cell_type": "markdown",
   "metadata": {},
   "source": [
    "### training regressor\n",
    "\n",
    "Retraining the Random Forest Regressor with both the train and test data."
   ]
  },
  {
   "cell_type": "code",
   "execution_count": null,
   "metadata": {},
   "outputs": [],
   "source": [
    "regressor = clf.best_estimator_\n",
    "regressor.fit(X_test.append(X_train), y_test.append(y_train))"
   ]
  },
  {
   "cell_type": "markdown",
   "metadata": {},
   "source": [
    "#### Testing regressor\n",
    "\n",
    "Testing the regressor on the test set (it is also being trained on this set, so the RMSE can be much better than before)."
   ]
  },
  {
   "cell_type": "code",
   "execution_count": null,
   "metadata": {},
   "outputs": [],
   "source": [
    "regressor.score(X_test, y_test)"
   ]
  },
  {
   "cell_type": "code",
   "execution_count": null,
   "metadata": {},
   "outputs": [],
   "source": [
    "y_pred = regressor.predict(X_test)\n",
    "mean_squared_error(y_test, y_pred)**0.5"
   ]
  },
  {
   "cell_type": "markdown",
   "metadata": {},
   "source": [
    "### Plotting the predictions\n",
    "\n",
    "To gain some more insights into the behaviour of the model one of the Regressor Decision Trees is being plotted."
   ]
  },
  {
   "cell_type": "code",
   "execution_count": null,
   "metadata": {},
   "outputs": [],
   "source": [
    "fig, axes = plt.subplots(nrows = 1, ncols=1, figsize=(4,4), dpi=800)\n",
    "plot_tree(regressor.estimators_[0],\n",
    "        feature_names=X_train.columns,\n",
    "        filled=True,\n",
    "        rounded=True,\n",
    "        ax=axes)\n",
    "\n",
    "fig.show()"
   ]
  },
  {
   "cell_type": "markdown",
   "metadata": {},
   "source": [
    "Weekend is the most important feature in the tree, followed by mean temperature and days from epoch."
   ]
  },
  {
   "cell_type": "markdown",
   "metadata": {},
   "source": [
    "### Validating regressor\n",
    "Predict the data for the dates in validation.pkl, enter data into kaggle competition."
   ]
  },
  {
   "cell_type": "code",
   "execution_count": null,
   "metadata": {},
   "outputs": [],
   "source": [
    "df_validation = pd.read_pickle(r\"../input/validation.pkl\")\n",
    "df_validation.head()"
   ]
  },
  {
   "cell_type": "code",
   "execution_count": null,
   "metadata": {},
   "outputs": [],
   "source": [
    "X_validate = df_validation.drop([\"date\", \"Predicted\"], axis=1)"
   ]
  },
  {
   "cell_type": "code",
   "execution_count": null,
   "metadata": {},
   "outputs": [],
   "source": [
    "y_validate = regressor.predict(X_validate)\n",
    "df_validation[\"Predicted\"] = y_validate\n",
    "df_validation.head()"
   ]
  },
  {
   "cell_type": "markdown",
   "metadata": {},
   "source": [
    "To give an overview over all the predictions the model has made, all the predictions are plotted into a graph."
   ]
  },
  {
   "cell_type": "code",
   "execution_count": null,
   "metadata": {},
   "outputs": [],
   "source": [
    "df_test[\"count\"].plot(figsize=(14,7), label=\"real value\")\n",
    "df_validation[\"Predicted\"].plot()\n",
    "\n",
    "plt.legend()\n",
    "plt.show()"
   ]
  },
  {
   "cell_type": "markdown",
   "metadata": {},
   "source": [
    "### Writing validation data to .csv file\n",
    "\n",
    "All the predictions are written into a csv file and into the right format."
   ]
  },
  {
   "cell_type": "code",
   "execution_count": null,
   "metadata": {},
   "outputs": [],
   "source": [
    "df_validation.rename(columns= {\"date\" : \"id\"}, inplace=True)\n",
    "df_validation[\"id\"] = df_validation[\"id\"].dt.strftime(\"%Y%m%d\")\n",
    "df_validation[[\"id\", \"Predicted\"]].to_csv(\"../output/RFRval.csv\", index=False)"
   ]
  },
  {
   "cell_type": "code",
   "execution_count": null,
   "metadata": {},
   "outputs": [],
   "source": []
  }
 ],
 "metadata": {
  "kernelspec": {
   "display_name": "Python 3",
   "language": "python",
   "name": "python3"
  },
  "language_info": {
   "codemirror_mode": {
    "name": "ipython",
    "version": 3
   },
   "file_extension": ".py",
   "mimetype": "text/x-python",
   "name": "python",
   "nbconvert_exporter": "python",
   "pygments_lexer": "ipython3",
   "version": "3.7.6"
  }
 },
 "nbformat": 4,
 "nbformat_minor": 4
}
