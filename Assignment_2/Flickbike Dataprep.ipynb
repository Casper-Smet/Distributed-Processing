{
 "cells": [
  {
   "cell_type": "code",
   "execution_count": null,
   "metadata": {},
   "outputs": [],
   "source": [
    "from datetime import datetime\n",
    "\n",
    "import matplotlib.pyplot as plt\n",
    "import numpy as np\n",
    "import seaborn as sns\n",
    "import pandas as pd\n",
    "\n",
    "import sys\n",
    "sys.path.append(\"../\")\n",
    "import KNMIRequest as KR\n",
    "import HolidayRequest as HR\n",
    "\n",
    "import warnings\n",
    "warnings.filterwarnings('ignore')"
   ]
  },
  {
   "cell_type": "code",
   "execution_count": null,
   "metadata": {},
   "outputs": [],
   "source": [
    "df = pd.read_csv('../input/train.csv', index_col=0, parse_dates=True)\n",
    "df_train = df.copy()\n",
    "df_train.head()"
   ]
  },
  {
   "cell_type": "code",
   "execution_count": null,
   "metadata": {},
   "outputs": [],
   "source": [
    "df_test = pd.read_csv('../input/test.csv', index_col=0, parse_dates=True)\n",
    "df_test.head()"
   ]
  },
  {
   "cell_type": "code",
   "execution_count": null,
   "metadata": {},
   "outputs": [],
   "source": [
    "df_KNMI = KR.get_KNMI_DD(start=20190101, end=20191209, vars_=[\"FG\", \"FHX\", \"TN\", \"TX\", \"TG\", \"DR\", \"RH\", \"RHX\", \"VVN\"])\n",
    "df_KNMI.set_index(\"Date\", inplace=True)\n",
    "ser_holidays = HR.get_holiday_range()\n",
    "df_nat_hol = pd.read_csv('../input/Nationale Feestdagen.csv')\n",
    "df_nat_hol['date'] = pd.to_datetime(df_nat_hol['Datum'])"
   ]
  },
  {
   "cell_type": "code",
   "execution_count": null,
   "metadata": {},
   "outputs": [],
   "source": [
    "df = pd.read_csv('../input/train.csv', index_col=0, parse_dates=True)\n",
    "df_train = df.copy()\n",
    "df_train.head()\n",
    "\n",
    "def df_prep(df, epoch):\n",
    "    df['start_time'] = pd.to_datetime(df['start_time'])\n",
    "    df['end_time'] = pd.to_datetime(df['end_time'])\n",
    "    df['date'] = pd.to_datetime(df['date']).dt.date\n",
    "    \n",
    "    df = df[\"date\"].value_counts().to_frame().reset_index().sort_values(\"index\")\n",
    "    df.rename(columns={\"index\" : \"date\", \"date\" : \"count\"}, inplace=True)\n",
    "\n",
    "    df[\"date\"] = pd.to_datetime(df[\"date\"])\n",
    "    df['weekday'] = df['date'].dt.day_name()\n",
    "    \n",
    "    df['Friday'] = (df['weekday'] == 'Friday')\n",
    "    df['Weekend'] = (df['weekday'] == 'Saturday') | (df['weekday'] == 'Sunday')\n",
    "    df['School holiday'] = df['date'].isin(ser_holidays)\n",
    "    \n",
    "    df['National holiday'] = df['date'].isin(df_nat_hol['date'].dt.date)\n",
    "    \n",
    "    df['Days from epoch'] = (df['date'] - epoch).dt.days + 1\n",
    "    df.set_index(\"date\", inplace=True)\n",
    "    \n",
    "    \n",
    "    return df.join(df_KNMI).reset_index().drop(\"Station\", axis=1)\n",
    "\n",
    "#     df['Days from epoch'] = (df['start_time'] - df['start_time'].min()).dt.days\n",
    "# df_train = df_prep(df_train)\n",
    "# df_train.head()"
   ]
  },
  {
   "cell_type": "code",
   "execution_count": null,
   "metadata": {},
   "outputs": [],
   "source": [
    "df_KNMI"
   ]
  },
  {
   "cell_type": "code",
   "execution_count": null,
   "metadata": {},
   "outputs": [],
   "source": [
    "epoch = pd.to_datetime(min(df_train[\"date\"].min(), df_test[\"date\"].min()))"
   ]
  },
  {
   "cell_type": "code",
   "execution_count": null,
   "metadata": {},
   "outputs": [],
   "source": [
    "df_train = df_prep(df_train, epoch)\n",
    "df_train.head()"
   ]
  },
  {
   "cell_type": "code",
   "execution_count": null,
   "metadata": {},
   "outputs": [],
   "source": [
    "df_test = df_prep(df_test, epoch)\n",
    "df_test.head()"
   ]
  }
 ],
 "metadata": {
  "kernelspec": {
   "display_name": "Python 3.7.7 64-bit ('DIP': conda)",
   "language": "python",
   "name": "python37764bitdipconda4dedcd5059d04f8d9070684223ec9f99"
  },
  "language_info": {
   "codemirror_mode": {
    "name": "ipython",
    "version": 3
   },
   "file_extension": ".py",
   "mimetype": "text/x-python",
   "name": "python",
   "nbconvert_exporter": "python",
   "pygments_lexer": "ipython3",
   "version": "3.7.7"
  }
 },
 "nbformat": 4,
 "nbformat_minor": 4
}
