{
 "cells": [
  {
   "cell_type": "code",
   "execution_count": null,
   "metadata": {},
   "outputs": [],
   "source": [
    "import pandas as pd\n",
    "import numpy as np\n",
    "import matplotlib.pyplot as plt\n",
    "\n",
    "from sklearn.tree import DecisionTreeRegressor\n",
    "from sklearn.metrics import mean_squared_error\n",
    "from sklearn.model_selection import GridSearchCV"
   ]
  },
  {
   "cell_type": "markdown",
   "metadata": {},
   "source": [
    "# Decision Tree Regression v2\n",
    "\n",
    "In this notebook the realization of the second version of the Decision Tree Regressor will be explained.\n",
    "\n",
    "### Importing data\n",
    "\n",
    "All the training and test data is to be imported."
   ]
  },
  {
   "cell_type": "code",
   "execution_count": null,
   "metadata": {},
   "outputs": [],
   "source": [
    "df_train = pd.read_pickle(r\"../input/train.pkl\")\n",
    "X_train = df_train.drop([\"date\", \"count\", \"Days from epoch\"], axis=1)\n",
    "y_train = df_train[\"count\"]\n",
    "\n",
    "df_train.drop([\"Days from epoch\"], axis=1, inplace=True)\n",
    "df_train.head()"
   ]
  },
  {
   "cell_type": "code",
   "execution_count": null,
   "metadata": {},
   "outputs": [],
   "source": [
    "df_test = pd.read_pickle(r\"../input/test.pkl\")\n",
    "X_test = df_test.drop([\"date\", \"count\", \"Days from epoch\"], axis=1)\n",
    "y_test = df_test[\"count\"]\n",
    "df_test.head()"
   ]
  },
  {
   "cell_type": "markdown",
   "metadata": {},
   "source": [
    "### Searching for correlation\n",
    "\n",
    "Hereafter any possible correlation between a feature and the count will be found."
   ]
  },
  {
   "cell_type": "code",
   "execution_count": null,
   "metadata": {},
   "outputs": [],
   "source": [
    "df_train.corr()['count']"
   ]
  },
  {
   "cell_type": "code",
   "execution_count": null,
   "metadata": {},
   "outputs": [],
   "source": [
    "# Select features with more than x positive or negative correlation\n",
    "x = 0.18\n",
    "corr = df_train.corr()[[\"count\"]]\n",
    "cols = corr[corr[\"count\"].abs() > x].index.values[1:]\n",
    "cols"
   ]
  },
  {
   "cell_type": "markdown",
   "metadata": {},
   "source": [
    "Get all the possible combinations of the selected features per correlated columns"
   ]
  },
  {
   "cell_type": "code",
   "execution_count": null,
   "metadata": {
    "scrolled": true
   },
   "outputs": [],
   "source": [
    "import itertools\n",
    "\n",
    "all_subsets = list()\n",
    "\n",
    "for L in range(1, len(cols)+1):\n",
    "    for subset in itertools.combinations(cols, L):\n",
    "        all_subsets.append(list(subset))\n",
    "\n",
    "all_subsets"
   ]
  },
  {
   "cell_type": "markdown",
   "metadata": {},
   "source": [
    "### Fit and predict in the search for the best combination"
   ]
  },
  {
   "cell_type": "code",
   "execution_count": null,
   "metadata": {
    "scrolled": false
   },
   "outputs": [],
   "source": [
    "results = list()\n",
    "\n",
    "for subset in all_subsets:\n",
    "    \n",
    "    clf = DecisionTreeRegressor()\n",
    "    clf.fit(X_train[subset], y_train)\n",
    "    \n",
    "    y_pred = clf.predict(X_test[subset])\n",
    "    score = mean_squared_error(y_test, y_pred)**0.5\n",
    "    \n",
    "    results.append((subset, score))"
   ]
  },
  {
   "cell_type": "code",
   "execution_count": null,
   "metadata": {},
   "outputs": [],
   "source": [
    "sorted_by_second = sorted(results, key=lambda tup: tup[1])[:5]\n",
    "\n",
    "for sort in sorted_by_second:\n",
    "    print(f\"Features:\\n{sort[0]}\\nScore:\\n{sort[1]}\\n\")"
   ]
  },
  {
   "cell_type": "markdown",
   "metadata": {},
   "source": [
    "Select the best features"
   ]
  },
  {
   "cell_type": "code",
   "execution_count": null,
   "metadata": {},
   "outputs": [],
   "source": [
    "best_features = sorted_by_second[0][0]\n",
    "best_features"
   ]
  },
  {
   "cell_type": "code",
   "execution_count": null,
   "metadata": {},
   "outputs": [],
   "source": [
    "clf = DecisionTreeRegressor()\n",
    "clf.fit(X_train[best_features], y_train)"
   ]
  },
  {
   "cell_type": "markdown",
   "metadata": {},
   "source": [
    "### Using the validation set for predictions"
   ]
  },
  {
   "cell_type": "code",
   "execution_count": null,
   "metadata": {},
   "outputs": [],
   "source": [
    "df_validation = pd.read_pickle(r\"../input/validation.pkl\")\n",
    "df_validation.head(2)"
   ]
  },
  {
   "cell_type": "code",
   "execution_count": null,
   "metadata": {},
   "outputs": [],
   "source": [
    "X_validate = df_validation.drop([\"date\", \"Predicted\"], axis=1)"
   ]
  },
  {
   "cell_type": "code",
   "execution_count": null,
   "metadata": {},
   "outputs": [],
   "source": [
    "y_validate = clf.predict(X_validate[best_features])\n",
    "df_validation[\"Predicted\"] = y_validate\n",
    "df_validation.head()"
   ]
  },
  {
   "cell_type": "markdown",
   "metadata": {},
   "source": [
    "Plotting the predictions against the actual values."
   ]
  },
  {
   "cell_type": "code",
   "execution_count": null,
   "metadata": {},
   "outputs": [],
   "source": [
    "df_test[\"count\"].plot(figsize=(14,7), label=\"real value\")\n",
    "df_validation[\"Predicted\"].plot()\n",
    "\n",
    "plt.legend()\n",
    "plt.show()"
   ]
  },
  {
   "cell_type": "markdown",
   "metadata": {},
   "source": [
    "### Writing validation data to .csv file"
   ]
  },
  {
   "cell_type": "code",
   "execution_count": null,
   "metadata": {},
   "outputs": [],
   "source": [
    "df_validation.rename(columns= {\"date\" : \"id\"}, inplace=True)\n",
    "df_validation[\"id\"] = df_validation[\"id\"].dt.strftime(\"%Y%m%d\")\n",
    "df_validation[[\"id\", \"Predicted\"]].to_csv(\"../output/DTR_train.csv\", index=False)"
   ]
  },
  {
   "cell_type": "markdown",
   "metadata": {},
   "source": [
    "### Training regressor\n",
    "Retraining the aforementioned Decision Tree Regressor with train and test data."
   ]
  },
  {
   "cell_type": "code",
   "execution_count": null,
   "metadata": {},
   "outputs": [],
   "source": [
    "regressor = DecisionTreeRegressor()\n",
    "regressor.fit(X_train[best_features].append(X_test[best_features]), y_train.append(y_test))"
   ]
  },
  {
   "cell_type": "markdown",
   "metadata": {},
   "source": [
    "### Testing regressor"
   ]
  },
  {
   "cell_type": "code",
   "execution_count": null,
   "metadata": {},
   "outputs": [],
   "source": [
    "y_pred = regressor.predict(X_test[best_features])\n",
    "mean_squared_error(y_test, y_pred)**0.5"
   ]
  },
  {
   "cell_type": "code",
   "execution_count": null,
   "metadata": {},
   "outputs": [],
   "source": [
    "regressor"
   ]
  },
  {
   "cell_type": "markdown",
   "metadata": {},
   "source": [
    "### Validating regressor\n",
    "Predict the data for the dates in validation.pkl, enter data into kaggle competition. "
   ]
  },
  {
   "cell_type": "code",
   "execution_count": null,
   "metadata": {},
   "outputs": [],
   "source": [
    "df_validation = pd.read_pickle(r\"../input/validation.pkl\")\n",
    "df_validation.head()"
   ]
  },
  {
   "cell_type": "code",
   "execution_count": null,
   "metadata": {},
   "outputs": [],
   "source": [
    "X_validate = df_validation.drop([\"date\", \"Predicted\"], axis=1)"
   ]
  },
  {
   "cell_type": "code",
   "execution_count": null,
   "metadata": {},
   "outputs": [],
   "source": [
    "y_validate = regressor.predict(X_validate[best_features])\n",
    "df_validation[\"Predicted\"] = y_validate\n",
    "df_validation.head()"
   ]
  },
  {
   "cell_type": "code",
   "execution_count": null,
   "metadata": {},
   "outputs": [],
   "source": [
    "df_test[\"count\"].plot(figsize=(14,7), label=\"real value\")\n",
    "df_validation[\"Predicted\"].plot()\n",
    "\n",
    "plt.legend()\n",
    "plt.show()"
   ]
  },
  {
   "cell_type": "markdown",
   "metadata": {},
   "source": [
    "### Writing validation data to .csv file"
   ]
  },
  {
   "cell_type": "code",
   "execution_count": null,
   "metadata": {},
   "outputs": [],
   "source": [
    "df_validation.rename(columns= {\"date\" : \"id\"}, inplace=True)\n",
    "df_validation[\"id\"] = df_validation[\"id\"].dt.strftime(\"%Y%m%d\")\n",
    "df_validation[[\"id\", \"Predicted\"]].to_csv(\"../output/DTR_train_test.csv\", index=False)"
   ]
  }
 ],
 "metadata": {
  "kernelspec": {
   "display_name": "Python 3",
   "language": "python",
   "name": "python3"
  },
  "language_info": {
   "codemirror_mode": {
    "name": "ipython",
    "version": 3
   },
   "file_extension": ".py",
   "mimetype": "text/x-python",
   "name": "python",
   "nbconvert_exporter": "python",
   "pygments_lexer": "ipython3",
   "version": "3.7.6"
  }
 },
 "nbformat": 4,
 "nbformat_minor": 4
}
