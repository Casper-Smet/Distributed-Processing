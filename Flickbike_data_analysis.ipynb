{
 "cells": [
  {
   "cell_type": "markdown",
   "metadata": {},
   "source": [
    "# Flickbike"
   ]
  },
  {
   "cell_type": "code",
   "execution_count": 1,
   "metadata": {},
   "outputs": [],
   "source": [
    "import matplotlib.pyplot as plt\n",
    "import numpy as np\n",
    "import seaborn as sns\n",
    "import pandas as pd\n",
    "\n",
    "import warnings\n",
    "warnings.filterwarnings('ignore')"
   ]
  },
  {
   "cell_type": "markdown",
   "metadata": {},
   "source": [
    "## Importing the data\n",
    "Allereerst wordt de data ingeladen."
   ]
  },
  {
   "cell_type": "code",
   "execution_count": 2,
   "metadata": {},
   "outputs": [
    {
     "data": {
      "text/html": [
       "<div>\n",
       "<style scoped>\n",
       "    .dataframe tbody tr th:only-of-type {\n",
       "        vertical-align: middle;\n",
       "    }\n",
       "\n",
       "    .dataframe tbody tr th {\n",
       "        vertical-align: top;\n",
       "    }\n",
       "\n",
       "    .dataframe thead th {\n",
       "        text-align: right;\n",
       "    }\n",
       "</style>\n",
       "<table border=\"1\" class=\"dataframe\">\n",
       "  <thead>\n",
       "    <tr style=\"text-align: right;\">\n",
       "      <th></th>\n",
       "      <th>tripid</th>\n",
       "      <th>userid</th>\n",
       "      <th>bikeid</th>\n",
       "      <th>account</th>\n",
       "      <th>bikenumber</th>\n",
       "      <th>start_time</th>\n",
       "      <th>end_time</th>\n",
       "      <th>start_lat</th>\n",
       "      <th>start_lng</th>\n",
       "      <th>end_lat</th>\n",
       "      <th>end_lng</th>\n",
       "      <th>date</th>\n",
       "    </tr>\n",
       "  </thead>\n",
       "  <tbody>\n",
       "    <tr>\n",
       "      <th>1</th>\n",
       "      <td>33838</td>\n",
       "      <td>13452</td>\n",
       "      <td>382</td>\n",
       "      <td>AR</td>\n",
       "      <td>6631000433</td>\n",
       "      <td>2019-01-01 06:46:03</td>\n",
       "      <td>2019-01-01 06:46:03</td>\n",
       "      <td>52.296065</td>\n",
       "      <td>4.787667</td>\n",
       "      <td>52.296200</td>\n",
       "      <td>4.787679</td>\n",
       "      <td>2019-01-01 06:46:00</td>\n",
       "    </tr>\n",
       "    <tr>\n",
       "      <th>2</th>\n",
       "      <td>33839</td>\n",
       "      <td>13452</td>\n",
       "      <td>812</td>\n",
       "      <td>AR</td>\n",
       "      <td>6631000146</td>\n",
       "      <td>2019-01-01 06:47:39</td>\n",
       "      <td>2019-01-01 06:47:39</td>\n",
       "      <td>52.295938</td>\n",
       "      <td>4.788336</td>\n",
       "      <td>52.295940</td>\n",
       "      <td>4.788557</td>\n",
       "      <td>2019-01-01 06:47:35</td>\n",
       "    </tr>\n",
       "    <tr>\n",
       "      <th>3</th>\n",
       "      <td>33851</td>\n",
       "      <td>13182</td>\n",
       "      <td>238</td>\n",
       "      <td>AR</td>\n",
       "      <td>6631000443</td>\n",
       "      <td>2019-01-01 14:15:36</td>\n",
       "      <td>2019-01-01 14:15:36</td>\n",
       "      <td>52.307337</td>\n",
       "      <td>4.807633</td>\n",
       "      <td>52.307336</td>\n",
       "      <td>4.807630</td>\n",
       "      <td>2019-01-01 14:15:32</td>\n",
       "    </tr>\n",
       "    <tr>\n",
       "      <th>4</th>\n",
       "      <td>33852</td>\n",
       "      <td>13182</td>\n",
       "      <td>238</td>\n",
       "      <td>AR</td>\n",
       "      <td>6631000443</td>\n",
       "      <td>2019-01-01 14:33:50</td>\n",
       "      <td>2019-01-01 14:33:50</td>\n",
       "      <td>52.308478</td>\n",
       "      <td>4.809970</td>\n",
       "      <td>52.308537</td>\n",
       "      <td>4.810099</td>\n",
       "      <td>2019-01-01 14:33:46</td>\n",
       "    </tr>\n",
       "    <tr>\n",
       "      <th>5</th>\n",
       "      <td>33867</td>\n",
       "      <td>12674</td>\n",
       "      <td>787</td>\n",
       "      <td>AG</td>\n",
       "      <td>6631000283</td>\n",
       "      <td>2019-01-01 20:11:05</td>\n",
       "      <td>2019-01-01 20:11:05</td>\n",
       "      <td>52.506522</td>\n",
       "      <td>4.727323</td>\n",
       "      <td>52.506809</td>\n",
       "      <td>4.732135</td>\n",
       "      <td>2019-01-01 20:11:01</td>\n",
       "    </tr>\n",
       "  </tbody>\n",
       "</table>\n",
       "</div>"
      ],
      "text/plain": [
       "   tripid  userid  bikeid account  bikenumber           start_time  \\\n",
       "1   33838   13452     382      AR  6631000433  2019-01-01 06:46:03   \n",
       "2   33839   13452     812      AR  6631000146  2019-01-01 06:47:39   \n",
       "3   33851   13182     238      AR  6631000443  2019-01-01 14:15:36   \n",
       "4   33852   13182     238      AR  6631000443  2019-01-01 14:33:50   \n",
       "5   33867   12674     787      AG  6631000283  2019-01-01 20:11:05   \n",
       "\n",
       "              end_time  start_lat  start_lng    end_lat   end_lng  \\\n",
       "1  2019-01-01 06:46:03  52.296065   4.787667  52.296200  4.787679   \n",
       "2  2019-01-01 06:47:39  52.295938   4.788336  52.295940  4.788557   \n",
       "3  2019-01-01 14:15:36  52.307337   4.807633  52.307336  4.807630   \n",
       "4  2019-01-01 14:33:50  52.308478   4.809970  52.308537  4.810099   \n",
       "5  2019-01-01 20:11:05  52.506522   4.727323  52.506809  4.732135   \n",
       "\n",
       "                  date  \n",
       "1  2019-01-01 06:46:00  \n",
       "2  2019-01-01 06:47:35  \n",
       "3  2019-01-01 14:15:32  \n",
       "4  2019-01-01 14:33:46  \n",
       "5  2019-01-01 20:11:01  "
      ]
     },
     "execution_count": 2,
     "metadata": {},
     "output_type": "execute_result"
    }
   ],
   "source": [
    "df = pd.read_csv('data/bikes.csv', index_col=0, parse_dates=True)\n",
    "df.head()"
   ]
  },
  {
   "cell_type": "markdown",
   "metadata": {},
   "source": [
    "## Analysing the data"
   ]
  },
  {
   "cell_type": "code",
   "execution_count": 3,
   "metadata": {},
   "outputs": [
    {
     "data": {
      "text/plain": [
       "tripid          int64\n",
       "userid          int64\n",
       "bikeid          int64\n",
       "account        object\n",
       "bikenumber      int64\n",
       "start_time     object\n",
       "end_time       object\n",
       "start_lat     float64\n",
       "start_lng     float64\n",
       "end_lat       float64\n",
       "end_lng       float64\n",
       "date           object\n",
       "dtype: object"
      ]
     },
     "execution_count": 3,
     "metadata": {},
     "output_type": "execute_result"
    }
   ],
   "source": [
    "df.dtypes"
   ]
  },
  {
   "cell_type": "markdown",
   "metadata": {},
   "source": [
    "Omzetten naar correcte datatypes"
   ]
  },
  {
   "cell_type": "code",
   "execution_count": 4,
   "metadata": {},
   "outputs": [
    {
     "data": {
      "text/plain": [
       "tripid                 int64\n",
       "userid                 int64\n",
       "bikeid                 int64\n",
       "account               object\n",
       "bikenumber             int64\n",
       "start_time    datetime64[ns]\n",
       "end_time      datetime64[ns]\n",
       "start_lat            float64\n",
       "start_lng            float64\n",
       "end_lat              float64\n",
       "end_lng              float64\n",
       "date          datetime64[ns]\n",
       "weekday               object\n",
       "hour                   int64\n",
       "dtype: object"
      ]
     },
     "execution_count": 4,
     "metadata": {},
     "output_type": "execute_result"
    }
   ],
   "source": [
    "df['start_time'] = pd.to_datetime(df['start_time'])\n",
    "df['end_time'] = pd.to_datetime(df['end_time'])\n",
    "df['date'] = pd.to_datetime(df['date'])\n",
    "\n",
    "# extracting extra features\n",
    "df['weekday'] = df['date'].dt.weekday_name\n",
    "df['hour'] = df['date'].dt.hour\n",
    "\n",
    "df.dtypes"
   ]
  },
  {
   "cell_type": "code",
   "execution_count": 5,
   "metadata": {},
   "outputs": [
    {
     "data": {
      "text/plain": [
       "tripid        0\n",
       "userid        0\n",
       "bikeid        0\n",
       "account       0\n",
       "bikenumber    0\n",
       "start_time    0\n",
       "end_time      0\n",
       "start_lat     0\n",
       "start_lng     0\n",
       "end_lat       0\n",
       "end_lng       0\n",
       "date          0\n",
       "weekday       0\n",
       "hour          0\n",
       "dtype: int64"
      ]
     },
     "execution_count": 5,
     "metadata": {},
     "output_type": "execute_result"
    }
   ],
   "source": [
    "df.isna().sum()"
   ]
  },
  {
   "cell_type": "markdown",
   "metadata": {},
   "source": [
    "## Vraag 1\n",
    "**Produceer een plot van verhuur-per-dag voor deze dataset.**  \n",
    "  \n",
    "Om dit voor elkaar te krijgen worden eerst alle dagen bij elkaar gegroupeerd zodat de hoeveelheid verhuren per dag opgeteld zullen worden.  \n",
    "Hierna wordt deze dataset geplot."
   ]
  },
  {
   "cell_type": "code",
   "execution_count": 6,
   "metadata": {},
   "outputs": [
    {
     "data": {
      "image/png": "[encoded data removed]",
      "text/plain": [
       "<Figure size 432x288 with 1 Axes>"
      ]
     },
     "metadata": {},
     "output_type": "display_data"
    },
    {
     "data": {
      "text/plain": [
       "<Figure size 1296x1296 with 0 Axes>"
      ]
     },
     "metadata": {},
     "output_type": "display_data"
    }
   ],
   "source": [
    "df_dates_count = df.groupby(df['date'].dt.date)['tripid'].count()\n",
    "\n",
    "x = df_dates_count.index\n",
    "y = df_dates_count.values\n",
    "\n",
    "sns.set_style(\"darkgrid\")\n",
    "plt.plot(x, y)\n",
    "\n",
    "plt.title(\"\")\n",
    "plt.xlabel(\"\")\n",
    "plt.ylabel(\"\")\n",
    "\n",
    "plt.figure(figsize=(18,18))\n",
    "plt.show()"
   ]
  },
  {
   "cell_type": "markdown",
   "metadata": {},
   "source": []
  },
  {
   "cell_type": "code",
   "execution_count": 7,
   "metadata": {},
   "outputs": [
    {
     "data": {
      "image/png": "[encoded data removed]",
      "text/plain": [
       "<Figure size 432x288 with 1 Axes>"
      ]
     },
     "metadata": {},
     "output_type": "display_data"
    },
    {
     "data": {
      "text/plain": [
       "<Figure size 1296x1296 with 0 Axes>"
      ]
     },
     "metadata": {},
     "output_type": "display_data"
    }
   ],
   "source": [
    "df_dates_count.index = pd.to_datetime(df_dates_count.index)\n",
    "df_three_months = df_dates_count.loc[\"2019-09-01\":\"2019-12-31\"]\n",
    "\n",
    "sns.set_style(\"darkgrid\")\n",
    "plt.plot(df_three_months.index, df_three_months.values)\n",
    "\n",
    "plt.title(\"\")\n",
    "plt.xlabel(\"\")\n",
    "plt.ylabel(\"\")\n",
    "\n",
    "plt.xticks(rotation=45)\n",
    "plt.figure(figsize=(18,18))\n",
    "plt.show()"
   ]
  },
  {
   "cell_type": "code",
   "execution_count": null,
   "metadata": {},
   "outputs": [],
   "source": []
  },
  {
   "cell_type": "markdown",
   "metadata": {},
   "source": [
    "## Vraag 2\n",
    "**Wat is de periodiciteit van deze dataset?**  \n",
    "  \n",
    "Om de vraag wat betreft periodiciteit te beantwoorden zal ik gaan kijken of ik bepaalde terugkerende patronen kan vinden in de data. Deze terugkerende patronenen zal ik bij de volgende scopes gaan bekijken:  \n",
    "- De dag van de week\n",
    "- Uren van de dag\n",
    "- Het weer\n",
    "- Bijzondere dagen, zoals feestdagen, schoolvakanties, etc  \n",
    "  \n",
    "### De dag van de week\n"
   ]
  },
  {
   "cell_type": "code",
   "execution_count": 8,
   "metadata": {},
   "outputs": [
    {
     "data": {
      "text/plain": [
       "date\n",
       "Friday       158.265306\n",
       "Monday       191.959184\n",
       "Saturday      22.367347\n",
       "Sunday        20.229167\n",
       "Thursday     215.448980\n",
       "Tuesday      220.673469\n",
       "Wednesday    199.571429\n",
       "Name: tripid, dtype: float64"
      ]
     },
     "execution_count": 8,
     "metadata": {},
     "output_type": "execute_result"
    }
   ],
   "source": [
    "df_weekday = df_dates_count.copy(deep=True)\n",
    "df_weekday.index = df_weekday.index.day_name()\n",
    "\n",
    "df_weekday.groupby(df_weekday.index).mean()"
   ]
  },
  {
   "cell_type": "markdown",
   "metadata": {},
   "source": []
  },
  {
   "cell_type": "code",
   "execution_count": 9,
   "metadata": {},
   "outputs": [
    {
     "data": {
      "image/png": "[encoded data removed]",
      "text/plain": [
       "<Figure size 432x288 with 1 Axes>"
      ]
     },
     "metadata": {},
     "output_type": "display_data"
    }
   ],
   "source": [
    "sns.boxplot(x=df_weekday.index, y=df_weekday.values)\n",
    "plt.show()"
   ]
  },
  {
   "cell_type": "markdown",
   "metadata": {},
   "source": []
  },
  {
   "cell_type": "markdown",
   "metadata": {},
   "source": [
    "### Uren van de dag"
   ]
  },
  {
   "cell_type": "code",
   "execution_count": 10,
   "metadata": {},
   "outputs": [
    {
     "data": {
      "text/plain": [
       "date\n",
       "2019-11-05    499\n",
       "2019-07-04    400\n",
       "Name: tripid, dtype: int64"
      ]
     },
     "execution_count": 10,
     "metadata": {},
     "output_type": "execute_result"
    }
   ],
   "source": [
    "df_dates_count.sort_values(ascending=False).head(2)"
   ]
  },
  {
   "cell_type": "markdown",
   "metadata": {},
   "source": [
    "Dit geeft aan dat er op de 5e van november in totaal 499 fietsen verhuurt zijn. De volgende stap is om te kijken rond welke uren de vraag het hoogst is."
   ]
  },
  {
   "cell_type": "code",
   "execution_count": 23,
   "metadata": {},
   "outputs": [
    {
     "data": {
      "image/png": "[encoded data removed]",
      "text/plain": [
       "<Figure size 432x288 with 1 Axes>"
      ]
     },
     "metadata": {},
     "output_type": "display_data"
    }
   ],
   "source": [
    "df_1day_hours = df[(df['date'] > '2019-11-05') & (df['date'] < '2019-11-6')]\n",
    "df_plot = df_1day_hours.groupby(df_1day_hours['hour'])['tripid'].count()\n",
    "\n",
    "# plotting the bar chart\n",
    "sns.set_style(\"darkgrid\")\n",
    "\n",
    "y_pos = np.arange(len(df_plot.index))\n",
    "plt.bar(y_pos, df_plot.values, align='center', alpha=0.5)\n",
    "\n",
    "plt.xticks(y_pos, df_plot.index)\n",
    "plt.ylabel('')\n",
    "plt.title('')\n",
    "\n",
    "plt.show()"
   ]
  },
  {
   "cell_type": "markdown",
   "metadata": {},
   "source": [
    "### Het weer"
   ]
  },
  {
   "cell_type": "code",
   "execution_count": null,
   "metadata": {},
   "outputs": [],
   "source": []
  },
  {
   "cell_type": "markdown",
   "metadata": {},
   "source": [
    "### Bijzondere dagen"
   ]
  },
  {
   "cell_type": "code",
   "execution_count": null,
   "metadata": {},
   "outputs": [],
   "source": []
  },
  {
   "cell_type": "code",
   "execution_count": null,
   "metadata": {},
   "outputs": [],
   "source": []
  }
 ],
 "metadata": {
  "kernelspec": {
   "display_name": "Python 3",
   "language": "python",
   "name": "python3"
  },
  "language_info": {
   "codemirror_mode": {
    "name": "ipython",
    "version": 3
   },
   "file_extension": ".py",
   "mimetype": "text/x-python",
   "name": "python",
   "nbconvert_exporter": "python",
   "pygments_lexer": "ipython3",
   "version": "3.7.6"
  }
 },
 "nbformat": 4,
 "nbformat_minor": 4
}
